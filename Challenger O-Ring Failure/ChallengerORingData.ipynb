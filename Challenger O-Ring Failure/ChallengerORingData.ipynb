{
 "cells": [
  {
   "cell_type": "markdown",
   "metadata": {},
   "source": [
    "# Challenger USA Space Shuttle O-Ring Data Set\n",
    "\n",
    "__[Project Data Set Source](https://archive.ics.uci.edu/ml/datasets/Challenger+USA+Space+Shuttle+O-Ring)__\n",
    "\n",
    "\n",
    "<img src=\"images/Challenger.jpg\" />\n",
    "\n",
    "\n",
    "**Abstract & Task:** predict the number of O-rings that experience thermal distress on a flight at 31 degrees F given data on the previous 23 shuttle flights.\n",
    "\n",
    "\n",
    "|                               |            |                          |  |                  |           |\n",
    "|-------------------------------|------------|--------------------------|--|------------------|-----------|\n",
    "|**Data Set Characteristics:**  |Multivariate|**Number of Instances:**  |23|**Area:**         |Physical   |\n",
    "|**Attribute Characteristics:** |Integer     |**Number of Attributes:** |4 |**Date Donated:** |1993-08-05 |\n",
    "|**Associated Tasks:**          |Regression  |**Missing Vales?**        |No|**Number of Hits**|90012      |\n",
    "\n",
    "\n",
    "## Source:\n",
    "\n",
    "**Original Owner:**\n",
    "\n",
    "    David Draper (draper '@' math.ucla.edu)\n",
    "    University of California, Los Angeles\n",
    "    \n",
    "**Data Analaysis Performed by:**\n",
    "\n",
    "    David P. Lopez\n",
    "    Miami Dade College, Wolfson Campus\n",
    "    www.DavidPLopez.com\n",
    "\n",
    "**Donor:**\n",
    "\n",
    "    David Draper (draper '@' math.ucla.edu)\n",
    "\n",
    "## Data Set Information\n",
    "\n",
    "**There are two databases (both use the same set of 5 attributes):**\n",
    "\n",
    "    1. Primary o-ring erosion and/or blowby\n",
    "    2. Primary o-ring erosion only\n",
    "\n",
    "***The two databases are identical except for the 2nd attribute of the 21st instance (confirmed by David Draper on\n",
    "8/5/93).***\n",
    "\n",
    "***Edited from (Draper, 1993):***\n",
    "\n",
    "The motivation for collecting this database was the explosion of the USA Space Shuttle Challenger on 28 January, 1986. An investigation ensued into the reliability of the shuttle's propulsion system. The explosion was eventually traced to the failure of one of the three field joints on one of the two solid booster rockets. Each of these six field joints includes two O-rings, designated as primary and secondary, which fail when phenomena called erosion and blowby both occur.\n",
    "\n",
    "The night before the launch a decision had to be made regarding launch safety. The discussion among engineers and managers leading to this decision included concern that the probability of failure of the O-rings depended on the temperature t at launch, which was forecasted to be 31 degrees F. There are strong engineering reasons based on the composition of O-rings to support the judgment that failure probability may rise monotonically as temperature drops. One other variable, the pressures at which safety testing for field join leaks was performed, was available, but its relevance to the failure process was unclear.\n",
    "\n",
    "Draper's paper includes a menacing figure graphing the number of field joints experiencing stress vs. liftoff temperature for the 23 shuttle flights previous to the Challenger disaster. No previous liftoff temperature was under 53 degrees F. Although tremendous extrapolation must be done from the given data to assess risk at 31 degrees F, it is obvious even to the layman \"to foresee the unacceptably high risk created by launching at 31 degrees F.\" For more information, see Draper (1993) or the other previous analyses.\n",
    "\n",
    "***The task is to predict the number of O-rings that will experience thermal distress for a given flight when the launch temperature is below freezing.***\n",
    "\n",
    "## Attribute Information:\n",
    "\n",
    "    1. Number of O-rings at risk on a given flight\n",
    "    2. Number experiencing thermal distress\n",
    "    3. Launch temperature (degrees F)\n",
    "    4. Leak-check pressure (psi)\n",
    "    5. Temporal order of flight\n",
    "\n",
    "## Relevant Papers:\n",
    "\n",
    "    Draper,D. (1993). Assessment and propagation of model uncertainty. In Proceedings of the Fourth International\n",
    "    Workshop on Artificial Intelligence and Statistics (pp. 497--509). Ft. Lauderdale, FL: Unpublished.\n",
    "\n",
    "    Dalal,S.R., Fowlkes,E.B., & Hoadley,B. (1989). Risk analysis of the space shuttle: pre-Challenger prediction of\n",
    "    failure. Journal of the American Statisticians Association, 84, 945--957.\n",
    "\n",
    "    Lavine,M. (1991). Problems in extrapolation illustrated with space shuttle O-ring data. Journal of the American\n",
    "    Statisticians Association, 86, 919--922.\n",
    "\n",
    "    Martz H.F., & Zimmer, W.J. (1992). The risk of catastrophic failure of the solid rocket boosters on the space\n",
    "    shuttle. American Statistics, 46, 42--47.\n",
    "\n",
    "## Data Set:"
   ]
  },
  {
   "cell_type": "markdown",
   "metadata": {},
   "source": [
    "To  analyze this data set and to predict the number of O-rings that will experience thermal distress on a shuttle flight at 31 degrees F, the followwing tools will be used in order to illustrate and validate the predictions made by this study. \n",
    "\n",
    "### Tool Set:\n",
    "\n",
    "    1. Numpy: The fundamental package for scientific computing with Python.\n",
    "    \n",
    "    2. Pandas:  A Python software library for data manipulation and analysis. In particular, it offers data structures \n",
    "                and operations for manipulating numerical tables and time series.\n",
    "                \n",
    "    3. Seaborn: Seaborn is a Python visualization library based on matplotlib. It provides a high-level interface for \n",
    "                drawing attractive statistical graphics.\n",
    "                \n",
    "    4. MatPlotLib: A plotting library for the Python language and its numerical mathematics extension NumPy.\n",
    "    \n",
    "    5. SkLearn:  A machine learning library for the Python language.\n",
    "    \n",
    "The data set used for this analysis can be found at the following link hosted by the University of California at Irvine. __[Data Source](https://archive.ics.uci.edu/ml/machine-learning-databases/space-shuttle/)__\n",
    "\n",
    "Using the Pandas library the data is cleaned and the columns are defined as shown below."
   ]
  },
  {
   "cell_type": "code",
   "execution_count": 5,
   "metadata": {},
   "outputs": [
    {
     "data": {
      "text/html": [
       "<div>\n",
       "<style scoped>\n",
       "    .dataframe tbody tr th:only-of-type {\n",
       "        vertical-align: middle;\n",
       "    }\n",
       "\n",
       "    .dataframe tbody tr th {\n",
       "        vertical-align: top;\n",
       "    }\n",
       "\n",
       "    .dataframe thead th {\n",
       "        text-align: right;\n",
       "    }\n",
       "</style>\n",
       "<table border=\"1\" class=\"dataframe\">\n",
       "  <thead>\n",
       "    <tr style=\"text-align: right;\">\n",
       "      <th></th>\n",
       "      <th>Number of O-rings at risk on a given flight</th>\n",
       "      <th>Number experiencing thermal distress</th>\n",
       "      <th>Launch temperature (degrees F)</th>\n",
       "      <th>Leak-check pressure (psi)</th>\n",
       "      <th>Temporal order of flight</th>\n",
       "    </tr>\n",
       "  </thead>\n",
       "  <tbody>\n",
       "    <tr>\n",
       "      <th>0</th>\n",
       "      <td>6</td>\n",
       "      <td>0</td>\n",
       "      <td>66</td>\n",
       "      <td>50</td>\n",
       "      <td>1</td>\n",
       "    </tr>\n",
       "    <tr>\n",
       "      <th>1</th>\n",
       "      <td>6</td>\n",
       "      <td>1</td>\n",
       "      <td>70</td>\n",
       "      <td>50</td>\n",
       "      <td>2</td>\n",
       "    </tr>\n",
       "    <tr>\n",
       "      <th>2</th>\n",
       "      <td>6</td>\n",
       "      <td>0</td>\n",
       "      <td>69</td>\n",
       "      <td>50</td>\n",
       "      <td>3</td>\n",
       "    </tr>\n",
       "    <tr>\n",
       "      <th>3</th>\n",
       "      <td>6</td>\n",
       "      <td>0</td>\n",
       "      <td>68</td>\n",
       "      <td>50</td>\n",
       "      <td>4</td>\n",
       "    </tr>\n",
       "    <tr>\n",
       "      <th>4</th>\n",
       "      <td>6</td>\n",
       "      <td>0</td>\n",
       "      <td>67</td>\n",
       "      <td>50</td>\n",
       "      <td>5</td>\n",
       "    </tr>\n",
       "    <tr>\n",
       "      <th>5</th>\n",
       "      <td>6</td>\n",
       "      <td>0</td>\n",
       "      <td>72</td>\n",
       "      <td>50</td>\n",
       "      <td>6</td>\n",
       "    </tr>\n",
       "    <tr>\n",
       "      <th>6</th>\n",
       "      <td>6</td>\n",
       "      <td>0</td>\n",
       "      <td>73</td>\n",
       "      <td>100</td>\n",
       "      <td>7</td>\n",
       "    </tr>\n",
       "    <tr>\n",
       "      <th>7</th>\n",
       "      <td>6</td>\n",
       "      <td>0</td>\n",
       "      <td>70</td>\n",
       "      <td>100</td>\n",
       "      <td>8</td>\n",
       "    </tr>\n",
       "    <tr>\n",
       "      <th>8</th>\n",
       "      <td>6</td>\n",
       "      <td>1</td>\n",
       "      <td>57</td>\n",
       "      <td>200</td>\n",
       "      <td>9</td>\n",
       "    </tr>\n",
       "    <tr>\n",
       "      <th>9</th>\n",
       "      <td>6</td>\n",
       "      <td>1</td>\n",
       "      <td>63</td>\n",
       "      <td>200</td>\n",
       "      <td>10</td>\n",
       "    </tr>\n",
       "    <tr>\n",
       "      <th>10</th>\n",
       "      <td>6</td>\n",
       "      <td>1</td>\n",
       "      <td>70</td>\n",
       "      <td>200</td>\n",
       "      <td>11</td>\n",
       "    </tr>\n",
       "    <tr>\n",
       "      <th>11</th>\n",
       "      <td>6</td>\n",
       "      <td>0</td>\n",
       "      <td>78</td>\n",
       "      <td>200</td>\n",
       "      <td>12</td>\n",
       "    </tr>\n",
       "    <tr>\n",
       "      <th>12</th>\n",
       "      <td>6</td>\n",
       "      <td>0</td>\n",
       "      <td>67</td>\n",
       "      <td>200</td>\n",
       "      <td>13</td>\n",
       "    </tr>\n",
       "    <tr>\n",
       "      <th>13</th>\n",
       "      <td>6</td>\n",
       "      <td>2</td>\n",
       "      <td>53</td>\n",
       "      <td>200</td>\n",
       "      <td>14</td>\n",
       "    </tr>\n",
       "    <tr>\n",
       "      <th>14</th>\n",
       "      <td>6</td>\n",
       "      <td>0</td>\n",
       "      <td>67</td>\n",
       "      <td>200</td>\n",
       "      <td>15</td>\n",
       "    </tr>\n",
       "    <tr>\n",
       "      <th>15</th>\n",
       "      <td>6</td>\n",
       "      <td>0</td>\n",
       "      <td>75</td>\n",
       "      <td>200</td>\n",
       "      <td>16</td>\n",
       "    </tr>\n",
       "    <tr>\n",
       "      <th>16</th>\n",
       "      <td>6</td>\n",
       "      <td>0</td>\n",
       "      <td>70</td>\n",
       "      <td>200</td>\n",
       "      <td>17</td>\n",
       "    </tr>\n",
       "    <tr>\n",
       "      <th>17</th>\n",
       "      <td>6</td>\n",
       "      <td>0</td>\n",
       "      <td>81</td>\n",
       "      <td>200</td>\n",
       "      <td>18</td>\n",
       "    </tr>\n",
       "    <tr>\n",
       "      <th>18</th>\n",
       "      <td>6</td>\n",
       "      <td>0</td>\n",
       "      <td>76</td>\n",
       "      <td>200</td>\n",
       "      <td>19</td>\n",
       "    </tr>\n",
       "    <tr>\n",
       "      <th>19</th>\n",
       "      <td>6</td>\n",
       "      <td>0</td>\n",
       "      <td>79</td>\n",
       "      <td>200</td>\n",
       "      <td>20</td>\n",
       "    </tr>\n",
       "    <tr>\n",
       "      <th>20</th>\n",
       "      <td>6</td>\n",
       "      <td>0</td>\n",
       "      <td>75</td>\n",
       "      <td>200</td>\n",
       "      <td>21</td>\n",
       "    </tr>\n",
       "    <tr>\n",
       "      <th>21</th>\n",
       "      <td>6</td>\n",
       "      <td>0</td>\n",
       "      <td>76</td>\n",
       "      <td>200</td>\n",
       "      <td>22</td>\n",
       "    </tr>\n",
       "    <tr>\n",
       "      <th>22</th>\n",
       "      <td>6</td>\n",
       "      <td>1</td>\n",
       "      <td>58</td>\n",
       "      <td>200</td>\n",
       "      <td>23</td>\n",
       "    </tr>\n",
       "  </tbody>\n",
       "</table>\n",
       "</div>"
      ],
      "text/plain": [
       "    Number of O-rings at risk on a given flight  \\\n",
       "0                                             6   \n",
       "1                                             6   \n",
       "2                                             6   \n",
       "3                                             6   \n",
       "4                                             6   \n",
       "5                                             6   \n",
       "6                                             6   \n",
       "7                                             6   \n",
       "8                                             6   \n",
       "9                                             6   \n",
       "10                                            6   \n",
       "11                                            6   \n",
       "12                                            6   \n",
       "13                                            6   \n",
       "14                                            6   \n",
       "15                                            6   \n",
       "16                                            6   \n",
       "17                                            6   \n",
       "18                                            6   \n",
       "19                                            6   \n",
       "20                                            6   \n",
       "21                                            6   \n",
       "22                                            6   \n",
       "\n",
       "    Number experiencing thermal distress  Launch temperature (degrees F)  \\\n",
       "0                                      0                              66   \n",
       "1                                      1                              70   \n",
       "2                                      0                              69   \n",
       "3                                      0                              68   \n",
       "4                                      0                              67   \n",
       "5                                      0                              72   \n",
       "6                                      0                              73   \n",
       "7                                      0                              70   \n",
       "8                                      1                              57   \n",
       "9                                      1                              63   \n",
       "10                                     1                              70   \n",
       "11                                     0                              78   \n",
       "12                                     0                              67   \n",
       "13                                     2                              53   \n",
       "14                                     0                              67   \n",
       "15                                     0                              75   \n",
       "16                                     0                              70   \n",
       "17                                     0                              81   \n",
       "18                                     0                              76   \n",
       "19                                     0                              79   \n",
       "20                                     0                              75   \n",
       "21                                     0                              76   \n",
       "22                                     1                              58   \n",
       "\n",
       "    Leak-check pressure (psi)  Temporal order of flight  \n",
       "0                          50                         1  \n",
       "1                          50                         2  \n",
       "2                          50                         3  \n",
       "3                          50                         4  \n",
       "4                          50                         5  \n",
       "5                          50                         6  \n",
       "6                         100                         7  \n",
       "7                         100                         8  \n",
       "8                         200                         9  \n",
       "9                         200                        10  \n",
       "10                        200                        11  \n",
       "11                        200                        12  \n",
       "12                        200                        13  \n",
       "13                        200                        14  \n",
       "14                        200                        15  \n",
       "15                        200                        16  \n",
       "16                        200                        17  \n",
       "17                        200                        18  \n",
       "18                        200                        19  \n",
       "19                        200                        20  \n",
       "20                        200                        21  \n",
       "21                        200                        22  \n",
       "22                        200                        23  "
      ]
     },
     "execution_count": 5,
     "metadata": {},
     "output_type": "execute_result"
    }
   ],
   "source": [
    "import numpy\n",
    "import pandas\n",
    "import seaborn as sb\n",
    "import matplotlib.pyplot as plt\n",
    "from sklearn.linear_model import LinearRegression\n",
    "\n",
    "data = pandas.read_csv(\"data\\o-ring-erosion-onlyData\", header = None)\n",
    "\n",
    "data.columns = [\"Number of O-rings at risk on a given flight\", \n",
    "                \"Number experiencing thermal distress\", \n",
    "                \"Launch temperature (degrees F)\", \n",
    "                \"Leak-check pressure (psi)\", \n",
    "                \"Temporal order of flight\"]\n",
    "\n",
    "data"
   ]
  },
  {
   "cell_type": "code",
   "execution_count": 6,
   "metadata": {},
   "outputs": [],
   "source": [
    "data.drop([\"Number of O-rings at risk on a given flight\", \n",
    "           \"Temporal order of flight\"], axis = 1, inplace = True)"
   ]
  },
  {
   "cell_type": "markdown",
   "metadata": {},
   "source": [
    "## Reduced Data Set:"
   ]
  },
  {
   "cell_type": "markdown",
   "metadata": {},
   "source": [
    "From the original data set above, the columns for \"Number of O-rings at risk on a given flight\" and \"Temporal order of flight\" are dropped from the table because they do not provide meaningful enough data to help us predict future thermal distress events on any given launch. The goal of the analysis is to predict how many of the six (6) O-rings on any given flight are at risk of thermal distress. Every flight has six (6) O-rings and the study can safely eliminate this known data from the analysis because the data is constant.\n",
    "\n",
    "The column for \"Temporal order of flight\" is being dropped because each shuttle flight is an independent event with a new set of O-rings to consider. The 23 flights provide data on the O-ring performance for each individual shuttle flight and a reference point from which to consider for future O-ring performance. The Reduced Data Set is shown below."
   ]
  },
  {
   "cell_type": "code",
   "execution_count": 7,
   "metadata": {},
   "outputs": [
    {
     "data": {
      "text/html": [
       "<div>\n",
       "<style scoped>\n",
       "    .dataframe tbody tr th:only-of-type {\n",
       "        vertical-align: middle;\n",
       "    }\n",
       "\n",
       "    .dataframe tbody tr th {\n",
       "        vertical-align: top;\n",
       "    }\n",
       "\n",
       "    .dataframe thead th {\n",
       "        text-align: right;\n",
       "    }\n",
       "</style>\n",
       "<table border=\"1\" class=\"dataframe\">\n",
       "  <thead>\n",
       "    <tr style=\"text-align: right;\">\n",
       "      <th></th>\n",
       "      <th>Number experiencing thermal distress</th>\n",
       "      <th>Launch temperature (degrees F)</th>\n",
       "      <th>Leak-check pressure (psi)</th>\n",
       "    </tr>\n",
       "  </thead>\n",
       "  <tbody>\n",
       "    <tr>\n",
       "      <th>0</th>\n",
       "      <td>0</td>\n",
       "      <td>66</td>\n",
       "      <td>50</td>\n",
       "    </tr>\n",
       "    <tr>\n",
       "      <th>1</th>\n",
       "      <td>1</td>\n",
       "      <td>70</td>\n",
       "      <td>50</td>\n",
       "    </tr>\n",
       "    <tr>\n",
       "      <th>2</th>\n",
       "      <td>0</td>\n",
       "      <td>69</td>\n",
       "      <td>50</td>\n",
       "    </tr>\n",
       "    <tr>\n",
       "      <th>3</th>\n",
       "      <td>0</td>\n",
       "      <td>68</td>\n",
       "      <td>50</td>\n",
       "    </tr>\n",
       "    <tr>\n",
       "      <th>4</th>\n",
       "      <td>0</td>\n",
       "      <td>67</td>\n",
       "      <td>50</td>\n",
       "    </tr>\n",
       "    <tr>\n",
       "      <th>5</th>\n",
       "      <td>0</td>\n",
       "      <td>72</td>\n",
       "      <td>50</td>\n",
       "    </tr>\n",
       "    <tr>\n",
       "      <th>6</th>\n",
       "      <td>0</td>\n",
       "      <td>73</td>\n",
       "      <td>100</td>\n",
       "    </tr>\n",
       "    <tr>\n",
       "      <th>7</th>\n",
       "      <td>0</td>\n",
       "      <td>70</td>\n",
       "      <td>100</td>\n",
       "    </tr>\n",
       "    <tr>\n",
       "      <th>8</th>\n",
       "      <td>1</td>\n",
       "      <td>57</td>\n",
       "      <td>200</td>\n",
       "    </tr>\n",
       "    <tr>\n",
       "      <th>9</th>\n",
       "      <td>1</td>\n",
       "      <td>63</td>\n",
       "      <td>200</td>\n",
       "    </tr>\n",
       "    <tr>\n",
       "      <th>10</th>\n",
       "      <td>1</td>\n",
       "      <td>70</td>\n",
       "      <td>200</td>\n",
       "    </tr>\n",
       "    <tr>\n",
       "      <th>11</th>\n",
       "      <td>0</td>\n",
       "      <td>78</td>\n",
       "      <td>200</td>\n",
       "    </tr>\n",
       "    <tr>\n",
       "      <th>12</th>\n",
       "      <td>0</td>\n",
       "      <td>67</td>\n",
       "      <td>200</td>\n",
       "    </tr>\n",
       "    <tr>\n",
       "      <th>13</th>\n",
       "      <td>2</td>\n",
       "      <td>53</td>\n",
       "      <td>200</td>\n",
       "    </tr>\n",
       "    <tr>\n",
       "      <th>14</th>\n",
       "      <td>0</td>\n",
       "      <td>67</td>\n",
       "      <td>200</td>\n",
       "    </tr>\n",
       "    <tr>\n",
       "      <th>15</th>\n",
       "      <td>0</td>\n",
       "      <td>75</td>\n",
       "      <td>200</td>\n",
       "    </tr>\n",
       "    <tr>\n",
       "      <th>16</th>\n",
       "      <td>0</td>\n",
       "      <td>70</td>\n",
       "      <td>200</td>\n",
       "    </tr>\n",
       "    <tr>\n",
       "      <th>17</th>\n",
       "      <td>0</td>\n",
       "      <td>81</td>\n",
       "      <td>200</td>\n",
       "    </tr>\n",
       "    <tr>\n",
       "      <th>18</th>\n",
       "      <td>0</td>\n",
       "      <td>76</td>\n",
       "      <td>200</td>\n",
       "    </tr>\n",
       "    <tr>\n",
       "      <th>19</th>\n",
       "      <td>0</td>\n",
       "      <td>79</td>\n",
       "      <td>200</td>\n",
       "    </tr>\n",
       "    <tr>\n",
       "      <th>20</th>\n",
       "      <td>0</td>\n",
       "      <td>75</td>\n",
       "      <td>200</td>\n",
       "    </tr>\n",
       "    <tr>\n",
       "      <th>21</th>\n",
       "      <td>0</td>\n",
       "      <td>76</td>\n",
       "      <td>200</td>\n",
       "    </tr>\n",
       "    <tr>\n",
       "      <th>22</th>\n",
       "      <td>1</td>\n",
       "      <td>58</td>\n",
       "      <td>200</td>\n",
       "    </tr>\n",
       "  </tbody>\n",
       "</table>\n",
       "</div>"
      ],
      "text/plain": [
       "    Number experiencing thermal distress  Launch temperature (degrees F)  \\\n",
       "0                                      0                              66   \n",
       "1                                      1                              70   \n",
       "2                                      0                              69   \n",
       "3                                      0                              68   \n",
       "4                                      0                              67   \n",
       "5                                      0                              72   \n",
       "6                                      0                              73   \n",
       "7                                      0                              70   \n",
       "8                                      1                              57   \n",
       "9                                      1                              63   \n",
       "10                                     1                              70   \n",
       "11                                     0                              78   \n",
       "12                                     0                              67   \n",
       "13                                     2                              53   \n",
       "14                                     0                              67   \n",
       "15                                     0                              75   \n",
       "16                                     0                              70   \n",
       "17                                     0                              81   \n",
       "18                                     0                              76   \n",
       "19                                     0                              79   \n",
       "20                                     0                              75   \n",
       "21                                     0                              76   \n",
       "22                                     1                              58   \n",
       "\n",
       "    Leak-check pressure (psi)  \n",
       "0                          50  \n",
       "1                          50  \n",
       "2                          50  \n",
       "3                          50  \n",
       "4                          50  \n",
       "5                          50  \n",
       "6                         100  \n",
       "7                         100  \n",
       "8                         200  \n",
       "9                         200  \n",
       "10                        200  \n",
       "11                        200  \n",
       "12                        200  \n",
       "13                        200  \n",
       "14                        200  \n",
       "15                        200  \n",
       "16                        200  \n",
       "17                        200  \n",
       "18                        200  \n",
       "19                        200  \n",
       "20                        200  \n",
       "21                        200  \n",
       "22                        200  "
      ]
     },
     "execution_count": 7,
     "metadata": {},
     "output_type": "execute_result"
    }
   ],
   "source": [
    "data"
   ]
  },
  {
   "cell_type": "markdown",
   "metadata": {},
   "source": [
    "## Data Set Stats:"
   ]
  },
  {
   "cell_type": "markdown",
   "metadata": {},
   "source": [
    "This analysis will focus on number of O-rings experiencing thermal distress based on different temperature and pressure readings from the previous 23 flights of the shuttle program. The data display the amount of O-rings experiencing thermal distress events at different data points which we can use to make a prediction using possible temperature and pressure inputs. Our initial goal is to determine how much each of these variable correlate to a thermal distress event and how much of an impact they make.\n",
    "\n",
    "The significant data as described below presents us with data from 23 previous shuttle flights with a ***mean launch temperature of 69.57 degrees F*** and a ***mean leak-check pressure of 152.17 psi***. These conditions have presented a maximum of ***2 thermal distress*** events with no failures over ***23 events***. Considering that the NASA Space Shuttle Program experienced a catastrophic failure on the 24th launch with a lanch temperature of ***31 degrees F*** our task is to predict how many O-rings will fail in a future launch under the same conditions, or worse conditions."
   ]
  },
  {
   "cell_type": "code",
   "execution_count": 8,
   "metadata": {},
   "outputs": [
    {
     "data": {
      "text/html": [
       "<div>\n",
       "<style scoped>\n",
       "    .dataframe tbody tr th:only-of-type {\n",
       "        vertical-align: middle;\n",
       "    }\n",
       "\n",
       "    .dataframe tbody tr th {\n",
       "        vertical-align: top;\n",
       "    }\n",
       "\n",
       "    .dataframe thead th {\n",
       "        text-align: right;\n",
       "    }\n",
       "</style>\n",
       "<table border=\"1\" class=\"dataframe\">\n",
       "  <thead>\n",
       "    <tr style=\"text-align: right;\">\n",
       "      <th></th>\n",
       "      <th>Number experiencing thermal distress</th>\n",
       "      <th>Launch temperature (degrees F)</th>\n",
       "      <th>Leak-check pressure (psi)</th>\n",
       "    </tr>\n",
       "  </thead>\n",
       "  <tbody>\n",
       "    <tr>\n",
       "      <th>count</th>\n",
       "      <td>23.000000</td>\n",
       "      <td>23.000000</td>\n",
       "      <td>23.000000</td>\n",
       "    </tr>\n",
       "    <tr>\n",
       "      <th>mean</th>\n",
       "      <td>0.304348</td>\n",
       "      <td>69.565217</td>\n",
       "      <td>152.173913</td>\n",
       "    </tr>\n",
       "    <tr>\n",
       "      <th>std</th>\n",
       "      <td>0.558796</td>\n",
       "      <td>7.057080</td>\n",
       "      <td>68.221332</td>\n",
       "    </tr>\n",
       "    <tr>\n",
       "      <th>min</th>\n",
       "      <td>0.000000</td>\n",
       "      <td>53.000000</td>\n",
       "      <td>50.000000</td>\n",
       "    </tr>\n",
       "    <tr>\n",
       "      <th>25%</th>\n",
       "      <td>0.000000</td>\n",
       "      <td>67.000000</td>\n",
       "      <td>75.000000</td>\n",
       "    </tr>\n",
       "    <tr>\n",
       "      <th>50%</th>\n",
       "      <td>0.000000</td>\n",
       "      <td>70.000000</td>\n",
       "      <td>200.000000</td>\n",
       "    </tr>\n",
       "    <tr>\n",
       "      <th>75%</th>\n",
       "      <td>0.500000</td>\n",
       "      <td>75.000000</td>\n",
       "      <td>200.000000</td>\n",
       "    </tr>\n",
       "    <tr>\n",
       "      <th>max</th>\n",
       "      <td>2.000000</td>\n",
       "      <td>81.000000</td>\n",
       "      <td>200.000000</td>\n",
       "    </tr>\n",
       "  </tbody>\n",
       "</table>\n",
       "</div>"
      ],
      "text/plain": [
       "       Number experiencing thermal distress  Launch temperature (degrees F)  \\\n",
       "count                             23.000000                       23.000000   \n",
       "mean                               0.304348                       69.565217   \n",
       "std                                0.558796                        7.057080   \n",
       "min                                0.000000                       53.000000   \n",
       "25%                                0.000000                       67.000000   \n",
       "50%                                0.000000                       70.000000   \n",
       "75%                                0.500000                       75.000000   \n",
       "max                                2.000000                       81.000000   \n",
       "\n",
       "       Leak-check pressure (psi)  \n",
       "count                  23.000000  \n",
       "mean                  152.173913  \n",
       "std                    68.221332  \n",
       "min                    50.000000  \n",
       "25%                    75.000000  \n",
       "50%                   200.000000  \n",
       "75%                   200.000000  \n",
       "max                   200.000000  "
      ]
     },
     "execution_count": 8,
     "metadata": {},
     "output_type": "execute_result"
    }
   ],
   "source": [
    "data.describe()"
   ]
  },
  {
   "cell_type": "markdown",
   "metadata": {},
   "source": [
    "## Thermal Distress Heat Map:"
   ]
  },
  {
   "cell_type": "markdown",
   "metadata": {},
   "source": [
    "After identifying the data to be analyzed, the next task is to find the degree of correlation each variable has to a thermal distress event. Using the heat map functionality provided by the Seaborn library, we can graphically see the magnitude of impact of each independent variable correlated to a thermal distress event. The launch temperature is inversely correlated and the colder the temperature the more closely it correlates to a thermal distress event.\n",
    "\n",
    "The leak-check pressure is only slightly correlated to a thermal distress event. The magnitude of its impact is displayed by a very light shade of red indicating that a higher reading in pressure will slightly impact probability of the onset of a thermal distress event."
   ]
  },
  {
   "cell_type": "code",
   "execution_count": 9,
   "metadata": {},
   "outputs": [
    {
     "data": {
      "text/plain": [
       "<matplotlib.axes._subplots.AxesSubplot at 0x1a1fef59748>"
      ]
     },
     "execution_count": 9,
     "metadata": {},
     "output_type": "execute_result"
    },
    {
     "data": {
      "image/png": "[encoded data removed]",
      "text/plain": [
       "<Figure size 432x288 with 2 Axes>"
      ]
     },
     "metadata": {},
     "output_type": "display_data"
    }
   ],
   "source": [
    "cor = data.corr()\n",
    "sb.heatmap(cor, annot = True, cmap = \"coolwarm\")"
   ]
  },
  {
   "cell_type": "markdown",
   "metadata": {},
   "source": [
    "## Correlation of Variables"
   ]
  },
  {
   "cell_type": "markdown",
   "metadata": {},
   "source": [
    "Using the Seaborn library we continue studying the correlation of the variables that impact the probability of the onset of a thermal distress event. Plotting a regression line using data for both the launch temperature and leak-check pressure, it is easier to see that the magnitude of each variable correlates as hypothesized and that the use of a linear regression model will help to predict future thermal distress events using different inputs for each independent variable to predict the probability of catastrophic failure by predicting how many O-rings would fail at a given temperature and pressure."
   ]
  },
  {
   "cell_type": "code",
   "execution_count": 10,
   "metadata": {},
   "outputs": [
    {
     "data": {
      "text/plain": [
       "<seaborn.axisgrid.FacetGrid at 0x1a1ff037e80>"
      ]
     },
     "execution_count": 10,
     "metadata": {},
     "output_type": "execute_result"
    },
    {
     "data": {
      "image/png": "[encoded data removed]",
      "text/plain": [
       "<Figure size 360x360 with 1 Axes>"
      ]
     },
     "metadata": {},
     "output_type": "display_data"
    }
   ],
   "source": [
    "sb.lmplot(x=\"Launch temperature (degrees F)\", y=\"Number experiencing thermal distress\", data=data)"
   ]
  },
  {
   "cell_type": "code",
   "execution_count": 11,
   "metadata": {},
   "outputs": [
    {
     "data": {
      "text/plain": [
       "<seaborn.axisgrid.FacetGrid at 0x1a1ff008390>"
      ]
     },
     "execution_count": 11,
     "metadata": {},
     "output_type": "execute_result"
    },
    {
     "data": {
      "image/png": "[encoded data removed]",
      "text/plain": [
       "<Figure size 360x360 with 1 Axes>"
      ]
     },
     "metadata": {},
     "output_type": "display_data"
    }
   ],
   "source": [
    "sb.lmplot(x=\"Leak-check pressure (psi)\", y=\"Number experiencing thermal distress\", data=data)"
   ]
  },
  {
   "cell_type": "markdown",
   "metadata": {},
   "source": [
    "## Distribution of Thermal Distress Events"
   ]
  },
  {
   "cell_type": "markdown",
   "metadata": {},
   "source": [
    "Using a distribution plot of the data for each of the 23 shuttle launches we can analyze the occurrences of thermal distress events vs launches without thermal distress events. It can be inferred by the data displayed that thermal distress events are more likely at lower launch temperatures."
   ]
  },
  {
   "cell_type": "code",
   "execution_count": 12,
   "metadata": {},
   "outputs": [
    {
     "name": "stderr",
     "output_type": "stream",
     "text": [
      "c:\\program files\\python36\\lib\\site-packages\\matplotlib\\axes\\_axes.py:6462: UserWarning: The 'normed' kwarg is deprecated, and has been replaced by the 'density' kwarg.\n",
      "  warnings.warn(\"The 'normed' kwarg is deprecated, and has been \"\n"
     ]
    },
    {
     "data": {
      "image/png": "[encoded data removed]",
      "text/plain": [
       "<Figure size 864x360 with 1 Axes>"
      ]
     },
     "metadata": {},
     "output_type": "display_data"
    }
   ],
   "source": [
    "plt.figure(figsize = (12,5))\n",
    "\n",
    "sb.distplot(data[\"Launch temperature (degrees F)\"][data[\"Number experiencing thermal distress\"] == 0], \n",
    "            label = \"No Thermal Distress\")\n",
    "\n",
    "sb.distplot(data[\"Launch temperature (degrees F)\"][data[\"Number experiencing thermal distress\"] != 0], \n",
    "            label = \"Thermal Distress Present\")\n",
    "\n",
    "plt.legend()\n",
    "plt.show()"
   ]
  },
  {
   "cell_type": "code",
   "execution_count": 14,
   "metadata": {},
   "outputs": [],
   "source": [
    "xData = data.drop([\"Number experiencing thermal distress\"], axis = 1)\n",
    "yData = data[\"Number experiencing thermal distress\"]"
   ]
  },
  {
   "cell_type": "markdown",
   "metadata": {},
   "source": [
    "## Define & Train a Thermal Distress Model"
   ]
  },
  {
   "cell_type": "markdown",
   "metadata": {},
   "source": [
    "Our next task is to use a linear regression Machine Learning algorithm to help us predict the occurence of thermal distress events based on forecasted future launch temperatures."
   ]
  },
  {
   "cell_type": "code",
   "execution_count": 15,
   "metadata": {},
   "outputs": [],
   "source": [
    "# Use sklearn and create a LinearRegression Object\n",
    "alg = LinearRegression()"
   ]
  },
  {
   "cell_type": "code",
   "execution_count": 16,
   "metadata": {},
   "outputs": [
    {
     "data": {
      "text/plain": [
       "LinearRegression(copy_X=True, fit_intercept=True, n_jobs=1, normalize=False)"
      ]
     },
     "execution_count": 16,
     "metadata": {},
     "output_type": "execute_result"
    }
   ],
   "source": [
    "# Train the algorithm\n",
    "alg.fit(xData, yData)"
   ]
  },
  {
   "cell_type": "markdown",
   "metadata": {},
   "source": [
    "## Predict Thermal Distress\n",
    "\n",
    "Using sklearn to train the machine learning algorithm we can now predict how many thermal distress events will occur at a given temperature and pressure using a numpy data structure. Reshaping the data to allow for the input of one row of data with two columns for launch temperature and leak-check pressure, we can predict how many thermal distress events have a high probability of occurring at 31 degrees F and at 150 psi."
   ]
  },
  {
   "cell_type": "code",
   "execution_count": 19,
   "metadata": {},
   "outputs": [
    {
     "data": {
      "text/plain": [
       "array([2.54622366])"
      ]
     },
     "execution_count": 19,
     "metadata": {},
     "output_type": "execute_result"
    }
   ],
   "source": [
    "# Make prediction\n",
    "alg.predict(numpy.array([31,150]).reshape(1,2))"
   ]
  },
  {
   "cell_type": "markdown",
   "metadata": {},
   "source": [
    "## Conclusions"
   ]
  },
  {
   "cell_type": "markdown",
   "metadata": {},
   "source": [
    "At 31 degrees F the Linear Regression model predicts that ***2.546 O-Rings*** will experience Thermal Distress that may lead to failure as was the case during the Space Shuttle Challenger Mission when launch temperatures t were predicted at 31 degrees F."
   ]
  },
  {
   "cell_type": "code",
   "execution_count": null,
   "metadata": {},
   "outputs": [],
   "source": []
  }
 ],
 "metadata": {
  "kernelspec": {
   "display_name": "Python 3",
   "language": "python",
   "name": "python3"
  },
  "language_info": {
   "codemirror_mode": {
    "name": "ipython",
    "version": 3
   },
   "file_extension": ".py",
   "mimetype": "text/x-python",
   "name": "python",
   "nbconvert_exporter": "python",
   "pygments_lexer": "ipython3",
   "version": "3.6.5rc1"
  }
 },
 "nbformat": 4,
 "nbformat_minor": 2
}
