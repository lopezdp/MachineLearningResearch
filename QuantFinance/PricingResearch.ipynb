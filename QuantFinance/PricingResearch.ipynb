{
 "cells": [
  {
   "cell_type": "markdown",
   "metadata": {},
   "source": [
    "# A Machine Learning Model using Tensorflow to Describe the Market Price of Cryptocurrencies\n",
    "\n",
    "## The Case of Bitcoin:\n",
    "\n",
    "[Satoshi Nakamoto](https://en.bitcoin.it/wiki/Satoshi_Nakamoto) is the pseudonym used by the original developer of the first successful implementation of a distributed cryptographic currency operating on a decentralized network of actors who have thus far, committed to using this decentralized ledger as a mechanism of undermining the current paradigm of issuing currency and controlling a society's money supply via a *Central Authority*$^{1}$. Its roots date back to [Wei Dai](http://www.weidai.com) and his description of [\"a scheme for a group of untraceable digital pseudonyms to pay each other with money and to enforce contracts amongst themselves without outside help\"](http://www.weidai.com/bmoney.txt) which he published on the [CypherPunks](https://en.wikipedia.org/wiki/Cypherpunk) [mailing list](https://lists.cpunks.org/mailman/listinfo/cypherpunks) in 1998$^{2}$.\n",
    "\n",
    "Bitcoin is a peer-to-peer, **permissionless** payment network that enables the issuance, and the transfer of *electronic cash* between unknown users who rely on public key cryptography to verify the authenticity of the transactions recorded on the public ledger also known as the **blockchain**. The reliance on public key cryptography to feasibly secure a network from attack was demonstrated in the book published by the **RSA Press** in 2001, titled *PKI Implementing & Managing E-Security* in which they argue that *\"key lengths are chosen so that it is computationally infeasible to try half the keys within the key space even if you use massive numbers of computers over the length of time the data being protected must remain secure.\"*$^{3}$ In fact, RSA Laboratories published a bulletin by Robert Silverman in April 2000 in which  he compared the relative strengths of various key lengths and algorithms. It would take a typical machine **10E16** years to \"crack\" a 128 bit Symmetric Key or a 1620 bit RSA key$^{4}$. Bitcoin leverages this strength and the architecture provided by public key cryptography to provide a decentralized solution to security that no longer requires two parties of a transaction to authenticate themselves in order to establish a trust based environment$^{5}$. By eliminating the need for trust, Bitcoin eliminated the on ramps to fraud and abuse by implementing cryptographic mechanisms that simply require a public key to validate a transaction on the network instead of relying on passwords that traditionally provide weak security. \n",
    "\n",
    "Bitcoin's value comes from its ability to provide society a mechanism in which a central authority is no longer needed to provide a frictionless and immutable transaction on a transparent and secure public ledger. In eliminating the regulated third parties that govern our existing payment networks, transaction fees are reduced and defined by the initiator of a transaction, providing absolute freedom of choice to the consumers in this new digital free market economy by anonymizing the actors involved in a transaction to limit the ability of governments to regulate and legislate the actions of the network's participants. As a distributed network, there is no one central node that can be seized, there is no central authority that controls and regulates the entire network. Any node can be shut down without affecting the pervasiveness of the ledger. So long as the user of the network has access to their cryptographic keys, then the user can access the Bitcoin Ledger and the digital currency accounted for within it.\n",
    "\n",
    "In the 1990's, cryptographic technology was viewed by the US Government as a national security issue and was considered a [**munitions export**](https://en.wikipedia.org/wiki/Export_of_cryptography) and was regulated as such$^{6}$. This led to the inability of researchers and cryptographers working in the industry to commercialize these tools as products that could help supply the demand and the need for secure methods of communication on an enterprise and eventually, global scale. The regulatory framework forced these individuals, most of whom were senior officials at hi-tech companies, \"underground\"$^{7}$. Notable individuals involved in the [CypherPunks](https://en.wikipedia.org/wiki/Cypherpunk) movement include [Julian Assange](https://en.wikipedia.org/wiki/Julian_Assange), [Jacob Appelbaum](https://en.wikipedia.org/wiki/Jacob_Appelbaum), [Steven Bellovin](https://en.wikipedia.org/wiki/Steven_M._Bellovin), and [Peter Junger](https://en.wikipedia.org/wiki/Peter_Junger). \n",
    "\n",
    "As the digital economy has matured, the demand for secure digital enablement tools has grown exponentially$^{8}$. In 1995, [Adam Beck](https://en.wikipedia.org/wiki/Adam_Back) published a cryptographic algorithm based on RSA and suggested that people use it as their email signature to incite **Civil Disobediance**$^{9}$. The freedom sparked by a few lines of code inspired a generation of tools that society could use to help improve the quality of life for humans globally by simply providing access to distributed forms of banking and capital. It was Adam Beck who invented [HashCash](http://www.hashcash.org/) in 1997 as a proof-of-work algorithm that requires computational power from a user's machine to solve a cryptographic puzzle needed to generate a hash stamp that would digitally sign and validate the sending of an email over a network, whose severs used the hash stamp to validate the sender as a legitimate user and sender of email messages on the email platform using a computationally expensive function. It's deployment at first was as an effective counter measure against Distributed-Denial-Of-Service (DDOS) attacks on data networks, and it proved to be of much value as an anti-spam tool to deter would be spammers and DDOS attackers by making it too computationally expensive to proceed with their black-hat objectives. \n",
    "\n",
    "The goal of an email spammer for example, would be to send 10,000 or more emails per minute via a Broadband connection established under illicit means and false pretenses in order to infiltrate the inboxes of users globally as quickly as possible before their connections are turned off to inundate users with scams, and fraudulent schemes that cost the global economy 20 billion dollars annually and would be approaching over 50 billion dollars if it were not for the private investment in anti-spam technologies such as [HashCach](http://www.hashcash.org/)$^{13}$. In March of 2016, [sixty-two percent](https://www.statista.com/statistics/745017/ransomeware-detected-spam-attachments/) of spam email was some form of RansomWare$^{14}$. In the first quarter of the same year [209 million dollars](https://blog.barkly.com/ransomware-statistics-2016) was paid to criminals conducting RansomWare attacks via spam email infections$^{15}$. Using [HashCash](http://www.hashcash.org/) to validate messages sent over a network would only add a negligible amount of CPU overhead per email sent, resulting in only a slight delay in the regular processing of the message as the CPU performs the calulations necessary to satisfy the proof-of-work algorithm defined by [HashCash](http://www.hashcash.org/). This validation process however, would add an exponential amount of time in providing the computations needed to satisfy the validation of the hashes for the overwhelmingly persistent amount of messages sent by spammers and RansomWare attackers, therefore making it less profitable to attack and conduct a scaleable spamming campaign. This is the same concept used by Bitcoin and its blockchain in order to make the network so computationally expensive to attack, that any attempt would result in a severe financial loss to any would be attackers in terms of the amount of computational hardware that would need to be purchased to compete against all of the nodes coming to consensus across the entire distributed Bitcoin network globally. Bitcoin does differ from [HashCash](http://www.hashcash.org/) in that Bitcoin makes use of the SHA256 algorithm as an added cybersecurity measure. Additionally, HashCash is just the mining function used by the Bitcoin ledger, Bitcoin's innovation and invention had never been fully realized in any previously attempted electronic-cash protocols. [Bitcoin represents a leap forward in electronic cash technology demonstrating for the first time that a respendable, distributed, virtual scarcity based system could be built](http://www.hashcash.org/bitcoin/)$^{16}$.    \n",
    "\n",
    "Bitcoin did not begin in 2009 with [Satoshi Nakamoto](https://en.bitcoin.it/wiki/Satoshi_Nakamoto) and his infamous [whitepaper](https://bitcoin.org/bitcoin.pdf) describing the implementation of the distributed network of computers that could come to consensus on a version of the ledger using a technologically democratic protocol that we know today as [Bitcoin](https://bitcoin.org)$^{10}$. What we know of today as Bitcoin and its OpenSource Blockchain technology that is not governed by exclusionary policy controls and truly lends itself as global currency and democratized payments network, has its foundations in the revolutionary code written by [Adam Beck](http://www.cypherspace.org/adam/) in 1995$^{9}$ below:\n",
    "\n",
    "\n",
    "```\n",
    "#!/bin/perl -sp0777i<X+d*lMLa^*lN%0]dsXx++lMlN/dsM0<j]dsj\n",
    "$/=unpack('H*',$_);$_=`echo 16dio\\U$k\"SK$/SM$n\\EsN0p[lN*1\n",
    "lK[d2%Sa2/d0$^Ixp\"|dc`;s/\\W//g;$_=pack('H*',/((..)*)$/)\n",
    "```\n",
    "\n",
    "\n",
    "In 2014 it was reported by the World Bank that there were 2 billion people on Earth without access to banking and that 7 countries which include China, Indonesia, India, Pakistan, Nigeria, Bangladesh, and Mexico provide just under half of the world's population of \"unbanked\" individuals$^{11}$. Amongst the majority of those without access to banking, the data suggests that the poor are overrepresented as people without a banking account. It is a hypothesis of this research, that because of its decentralized and digital nature, **Bitcoin provides an outlet for the poor to participate in the global economy by enabling people in these communities to make transactions on a blockchain without policy constraints, or trade barriers, to allow those in secluded communities to access a larger global economic network using these tools to conduct trade with digital assets**. Those without banking, being overrepresented amongst citizens of developing countries, are now afforded the opportunity to build wealth, and participate in the technological revolution unfolding in the global financial landscape by simply using Bitcoin and its secure approach to money.\n",
    "\n",
    "The world bank cites the following reasons as to why people in developing countries remain without banking or are considered \"unbanked\" (97 percent of respondents cited multiple reasons):$^{11}$\n",
    "\n",
    "1. 30 percent of adults without accounts stated that a banking account is not needed due to insufficient funds (3 percent cited this as the only reason).\n",
    "\n",
    "2. Banking & transaction costs were cited as a reason for not using banking by 26 percent of respondents.\n",
    "\n",
    "3. Another 26 percent of respondents declared that they bank through a family member.\n",
    "\n",
    "4. Distance to a financial institution was cited as a barrier to the use of banking by 22 percent of adults without accounts.\n",
    "\n",
    "5. Documentation is another intrusive barrier to those without access to banking. 20 percent of the people without access to banking simply do not have the documentation required to use banking as dictated by the Central Powers that control and regulate the global monetary system.\n",
    "\n",
    "6. Distrust of the global financial system was a reason cited by 16 percent of those without access to banking. Latin America, Europe, and Central Asia have the highest rates of distrust.\n",
    "\n",
    "#### Stated Need\n",
    "\n",
    "Addressing the reasons just listed, insufficient funds are due to a lack of opportunity and work. Once educated on the subject, the poor could potentially begin to innovate and create new tools around blockchain technology, which is accessible to the world as an OpenSource library of documented code, in order to develop a locally based ecosystem to support commercial trade in digital currencies. A perfect case study highlighting how digital enablement can help a community adapt to today's technological landscape is Kenya's organic implementaion of the M-PESA as a mobile device based currency. \"Few initiatives in microfinance, or for that matter in development, have been as successful as M-PESA: 3 and a half years after launch, over 70 percent of households in Kenya and more importantly over 50 percent of the poor, unbanked and rural populations use the service. M-PESA’s success means there is a real need for small electronic transactions and storage of value.\"$^{17}$ By providing a \"frictionless\" mechanism to more easily send and receive \"money\" between people in a poor community, the M-PESA created a market that provides access to an outlet for entrepreneurial expression, and Kenya has proved that access to a free market with ease of payments between parties to a transaction will infact provide upward financial mobility that takes people out of poverty. \"Access to M-PESA increased consumption levels over a six-year period, enabling an estimated 186,000 families, or as many as 2 percent of Kenyan households, to move out of poverty. The impact on female-headed households was more than twice the average measured.\"$^{18}$\n",
    "\n",
    "#### Transaction costs\n"
   ]
  },
  {
   "cell_type": "code",
   "execution_count": 1,
   "metadata": {},
   "outputs": [
    {
     "data": {
      "text/html": [
       "<div>\n",
       "<style scoped>\n",
       "    .dataframe tbody tr th:only-of-type {\n",
       "        vertical-align: middle;\n",
       "    }\n",
       "\n",
       "    .dataframe tbody tr th {\n",
       "        vertical-align: top;\n",
       "    }\n",
       "\n",
       "    .dataframe thead th {\n",
       "        text-align: right;\n",
       "    }\n",
       "</style>\n",
       "<table border=\"1\" class=\"dataframe\">\n",
       "  <thead>\n",
       "    <tr style=\"text-align: right;\">\n",
       "      <th></th>\n",
       "      <th>Value</th>\n",
       "    </tr>\n",
       "  </thead>\n",
       "  <tbody>\n",
       "    <tr>\n",
       "      <th>count</th>\n",
       "      <td>885.000000</td>\n",
       "    </tr>\n",
       "    <tr>\n",
       "      <th>mean</th>\n",
       "      <td>1.086774</td>\n",
       "    </tr>\n",
       "    <tr>\n",
       "      <th>std</th>\n",
       "      <td>0.473481</td>\n",
       "    </tr>\n",
       "    <tr>\n",
       "      <th>min</th>\n",
       "      <td>0.324599</td>\n",
       "    </tr>\n",
       "    <tr>\n",
       "      <th>25%</th>\n",
       "      <td>0.760000</td>\n",
       "    </tr>\n",
       "    <tr>\n",
       "      <th>50%</th>\n",
       "      <td>0.975700</td>\n",
       "    </tr>\n",
       "    <tr>\n",
       "      <th>75%</th>\n",
       "      <td>1.279526</td>\n",
       "    </tr>\n",
       "    <tr>\n",
       "      <th>max</th>\n",
       "      <td>3.755472</td>\n",
       "    </tr>\n",
       "  </tbody>\n",
       "</table>\n",
       "</div>"
      ],
      "text/plain": [
       "            Value\n",
       "count  885.000000\n",
       "mean     1.086774\n",
       "std      0.473481\n",
       "min      0.324599\n",
       "25%      0.760000\n",
       "50%      0.975700\n",
       "75%      1.279526\n",
       "max      3.755472"
      ]
     },
     "execution_count": 1,
     "metadata": {},
     "output_type": "execute_result"
    }
   ],
   "source": [
    "import quandl as ql\n",
    "\n",
    "# Configure quandl API Key\n",
    "# & Authenticate\n",
    "apiKey = \"-rLjiPduuzgzKp99MMHb\"\n",
    "ql.ApiConfig.api_key = apiKey\n",
    "\n",
    "# Capture transaction cost data\n",
    "cpTxn = ql.get(\"BCHAIN/CPTRV\", start_date='2016-01-03', end_date='2018-06-05', column_index='1')\n",
    "\n",
    "# Describe data and find mean\n",
    "cpTxn.describe()\n"
   ]
  },
  {
   "cell_type": "markdown",
   "metadata": {},
   "source": [
    "For the thirty month period from January 2016 to June 2018, the mean **Bitcoin transaction cost percentage was 1.05 percent**. Comparitavely, \"when it’s all said and done, the average cost of processing payments on Visa, Mastecard, AMEX, or Discover networks for U.S. businesses that do between 10,000 USD and 250,000 USD in annual payments volume is between 2.87 percent and 4.35 percent per transaction.\"$^{19}$ With Bitcoin being able to provide a frictionless method to exchange a store of value between two counterparties at rates that are 75 percent less than well established payment networks in the United States, cases like the M-PESA, and Bitcoin continue to provide evidence that these are the sustainable solutions the market demand calls for regarding the need for open access to these financial tools in poor communities globally to foster incentive based innovation, entrepreneurship, and locally developed opportunities that tap into a larger, globally connected digital economy. The authors of this paper hypothesize however, that **as Bitcoin gets closer to the validation of the final reward block to be mined, and the network stops rewarding miners for validating the transactions on the blockchain, the price will be affected in that miners will need to increase the transaction fees associated to mining, and the demand for Bitcoin will ultimately lead to a drop in its price as it approaches or exceeds the transaction costs of traditional payment networks**. \n",
    "\n",
    "#### Anonymous Banking, Documentation Requirements, and the Distrust of the Financial System\n",
    "\n",
    "The innovation that Bitcoin brought to the financial world, was an implentation of a **permissionless** network that approached the problem of **User Authentication** 180 degrees to the opposite of the approach that conventional payment networks currently have in production. Traditional payment networks typically rely on a small network of distributed servers in data centers to provide the network connectivity resources needed to provide the payment services that form the backbone of the global economy. These data centers can be thought of as a central node that can be governed by the policy constraints of a central authority because their distributed architecture was designed for redundancy and to ensure maximum network uptime and continuous connectivity. This architecture that connects to a central node, governed by a central authority, requires the establishment of **trust** amongst all of its users, who are then required to abide by any regulation set forth by the central authority legislating the activities that can be conducted on the network, which in turn will typically and unintentionally, limit access to the network by many of the poorest people in our society, as implied by the WorldBank data presented in this research. This trust based model requires that users be authenticated via permission based mechanisms that typically rely on passwords, device verification methods, biometric data, and other tools that have historically been succeptible to attack, and which continue to provide the on ramp to fraud and abuse of the network. To combat this, policy controls and legislation in the form of documentation requirements, trade embargos, country specific sanctions, and other restrictions are imposed, which unintentionally impact the poorest communities in the developing world. \n",
    "\n",
    "Bitcoin's approach in implementing a permissionless network that no longer relies on trust, is to instead rely on **Public Key Cryptography**, meaning that anyone with a valid Public/Private Key pair could access the system, and the digital economy created by this new innovation. By relying on the compounding growth in computing power provided by the millions of anonymous actors acting independently, and in their own interests, to build a new digital economy, only serves to exponentially strengthen the security and resiliance of the network. In effect, Satoshi Nakamoto built a system that dares attackers to drain their computing resources in an attempt to attack the system. Attacking the system would in effect, become a \"Kamikaze\" attack on the network for an attacker and would make no impact on the system as a whole. **The blockchain is immutable**, and is accessible to anyone with an internet connection. This **permissionless** model in effect, provides a practical solution for those who harbor any distrust in a centrally controlled and regulated payments network, it addresses the problem of a lack of documentation in that now, people who live in impoverished communities blockaded by a trade embargo or sanction can access the global digital economy, without having to establish any form of trust to obtain permission to access the economy which can be leveraged to obtain upward financial mobility, and it allows those who want to remain anonymous, to access the digital economy directly instead of through a family member with the use of nothing more than a Public/Private Key pair.\n",
    "\n",
    "#### Covering the Distance\n",
    "\n",
    "Humans are a resiliant species indeed. The lengths to which a typical Kenyan would have to go through just less than a decade ago to access the markets and its financial services, *validates the need for more direct approaches to those who need access the most. Distance and the costs associated with travelling throughout vast stretches of Africa, were cited by the World Bank as a barrier to access for the impoverished communities of the world.* \"M-PESA has significantly reduced transaction costs in Kenya. When it was launched the average distance to the nearest bank was 9.2 kilometres. Eight years later in 2015 the average distance to the nearest M-PESA agent was a [mere 1.4km]( https://www.theigc.org/wp-content/uploads/2016/03/1.-Sarah-Logan.pdf ).\"$^{20}$ In combination with [SpaceX's new Starlink low cost broadband internet service]( https://en.wikipedia.org/wiki/Starlink_(satellite_constellation), *the people of the world now have a conduit that provides them access to the digital economy afforeded to them by Bitcoin and other Cryptocurrencies*, and a clear path with access to the tools that have statistically shown us that these approaches can help to eradicate global poverty as  one of the United Nation's defined [Sustainable Development Goals]( https://www.un.org/sustainabledevelopment/poverty/ ).\n",
    "\n",
    "#### How and Where does Bitcoin Derive its Value\n",
    "\n",
    "The solutions that Bitcoin provides in terms of its security, anonymity, decentralization, predictable issuance of currency of up to 21 million BTC, and in how the technology is implemented in order to provide open access to impoverished communities by addressing the deep seated and systemic infrastructure weaknesses enabled by conventional financial schemes, all seem to provide valid arguments as to why the adoption rates of these cryptographic mechanisms have experienced the exponential growth phenomenon which we have witnessed recently. In order to investigate the reasons why and how Bitcoin derives its value to achieve a goal of this research in describing and predicting its future value, we must first dig deeper into what makes Bitcoin currency, and what makes anything humans use as money, money, and where it derives its inherent value first.\n",
    "\n",
    "In order for money to be what humans term \"money\", the currency in question must be widely accepted as a means of exchange for goods and services, as well as for the payment of debts. Money must provide three functions for it to be considered as an effective good that could be used as a basis for economic trade and growth. \n",
    "\n",
    "   1. **Medium of Exchange**: Bitcoin can be used for buying and selling goods and services. [OpenBazaar](https://www.openbazaar.org/) is an example of an online marketplace that allows buyers and sellers to conduct trade anonymously, without censorship, and without fees using Bitcoin as a form of exchange for the goods and services bought and sold on the platform.\n",
    "\n",
    "   2. **Unit of Account**: As a basic function of money Bitcoin provides for a unit of measurement for defining, recording, and comparing the value of goods and services in dollars, other cryptocurrencies or alt-coins, and commodities. Each Bitcoin can be fractionally divided in up to 100,000,000 units, and each of these Bitcoin units is called a Satoshi: **1 Satoshi = 0.00000001 BTC**.\n",
    "\n",
    "   3. **Store of Value**: \n",
    "\n",
    "\n",
    "\n",
    "\n",
    "\n",
    "\n",
    "\n",
    "\n",
    "\n",
    "\n",
    "\n",
    "\n",
    "\n",
    "**how: how is bitcoin money and how does it get its value**\n",
    "\n",
    "**Why is bitcoin valuable?**\n",
    "\n",
    "\"By 2030, ensure that all men and women, in particular the poor and the vulnerable, have equal rights to economic resources, as well as access to basic services, ownership and control over land and other forms of property, inheritance, natural resources, appropriate new technology and financial services, including microfinance\"$^{12}$\n",
    "\n",
    "\"Create sound policy frameworks at the national, regional and international levels, based on pro-poor and gender-sensitive development strategies, to support accelerated investment in poverty eradication actions\"$^{12}$\n",
    "\n",
    "The targets listed above are just two targets defined by the United Nations and Sustainable Development Goals for the eradication of poverty globally to help reduce the amount of people worldwide who subsist on less than two dollars per day.\n",
    "\n",
    "\n",
    "## Machine Learning\n",
    "### Featurization\n",
    "\n",
    "Describe the price using a Multivariable Linear Regression Model that can be used to predict daily pricing in the Bitcoin Market using Daily data as made available."
   ]
  },
  {
   "cell_type": "code",
   "execution_count": 2,
   "metadata": {},
   "outputs": [
    {
     "ename": "KeyboardInterrupt",
     "evalue": "",
     "output_type": "error",
     "traceback": [
      "\u001b[1;31m---------------------------------------------------------------------------\u001b[0m",
      "\u001b[1;31mKeyboardInterrupt\u001b[0m                         Traceback (most recent call last)",
      "\u001b[1;32m<ipython-input-2-45310bdb0547>\u001b[0m in \u001b[0;36m<module>\u001b[1;34m()\u001b[0m\n\u001b[0;32m      5\u001b[0m \u001b[1;32mimport\u001b[0m \u001b[0mseaborn\u001b[0m \u001b[1;32mas\u001b[0m \u001b[0msb\u001b[0m\u001b[1;33m\u001b[0m\u001b[0m\n\u001b[0;32m      6\u001b[0m \u001b[1;32mfrom\u001b[0m \u001b[0msklearn\u001b[0m \u001b[1;32mimport\u001b[0m \u001b[0mmetrics\u001b[0m\u001b[1;33m\u001b[0m\u001b[0m\n\u001b[1;32m----> 7\u001b[1;33m \u001b[1;32mimport\u001b[0m \u001b[0mtensorflow\u001b[0m \u001b[1;32mas\u001b[0m \u001b[0mtf\u001b[0m\u001b[1;33m\u001b[0m\u001b[0m\n\u001b[0m\u001b[0;32m      8\u001b[0m \u001b[1;32mfrom\u001b[0m \u001b[0mtensorflow\u001b[0m\u001b[1;33m.\u001b[0m\u001b[0mpython\u001b[0m\u001b[1;33m.\u001b[0m\u001b[0mdata\u001b[0m \u001b[1;32mimport\u001b[0m \u001b[0mDataset\u001b[0m\u001b[1;33m\u001b[0m\u001b[0m\n\u001b[0;32m      9\u001b[0m \u001b[1;32mfrom\u001b[0m \u001b[0mmatplotlib\u001b[0m \u001b[1;32mimport\u001b[0m \u001b[0mcm\u001b[0m\u001b[1;33m\u001b[0m\u001b[0m\n",
      "\u001b[1;32mc:\\program files\\python36\\lib\\site-packages\\tensorflow\\__init__.py\u001b[0m in \u001b[0;36m<module>\u001b[1;34m()\u001b[0m\n\u001b[0;32m     22\u001b[0m \u001b[1;33m\u001b[0m\u001b[0m\n\u001b[0;32m     23\u001b[0m \u001b[1;31m# pylint: disable=wildcard-import\u001b[0m\u001b[1;33m\u001b[0m\u001b[1;33m\u001b[0m\u001b[0m\n\u001b[1;32m---> 24\u001b[1;33m \u001b[1;32mfrom\u001b[0m \u001b[0mtensorflow\u001b[0m\u001b[1;33m.\u001b[0m\u001b[0mpython\u001b[0m \u001b[1;32mimport\u001b[0m \u001b[1;33m*\u001b[0m\u001b[1;33m\u001b[0m\u001b[0m\n\u001b[0m\u001b[0;32m     25\u001b[0m \u001b[1;31m# pylint: enable=wildcard-import\u001b[0m\u001b[1;33m\u001b[0m\u001b[1;33m\u001b[0m\u001b[0m\n\u001b[0;32m     26\u001b[0m \u001b[1;33m\u001b[0m\u001b[0m\n",
      "\u001b[1;32mc:\\program files\\python36\\lib\\site-packages\\tensorflow\\python\\__init__.py\u001b[0m in \u001b[0;36m<module>\u001b[1;34m()\u001b[0m\n\u001b[0;32m     70\u001b[0m \u001b[1;33m\u001b[0m\u001b[0m\n\u001b[0;32m     71\u001b[0m \u001b[1;31m# Ops\u001b[0m\u001b[1;33m\u001b[0m\u001b[1;33m\u001b[0m\u001b[0m\n\u001b[1;32m---> 72\u001b[1;33m \u001b[1;32mfrom\u001b[0m \u001b[0mtensorflow\u001b[0m\u001b[1;33m.\u001b[0m\u001b[0mpython\u001b[0m\u001b[1;33m.\u001b[0m\u001b[0mops\u001b[0m\u001b[1;33m.\u001b[0m\u001b[0mstandard_ops\u001b[0m \u001b[1;32mimport\u001b[0m \u001b[1;33m*\u001b[0m\u001b[1;33m\u001b[0m\u001b[0m\n\u001b[0m\u001b[0;32m     73\u001b[0m \u001b[1;33m\u001b[0m\u001b[0m\n\u001b[0;32m     74\u001b[0m \u001b[1;31m# Namespaces\u001b[0m\u001b[1;33m\u001b[0m\u001b[1;33m\u001b[0m\u001b[0m\n",
      "\u001b[1;32mc:\\program files\\python36\\lib\\site-packages\\tensorflow\\python\\ops\\standard_ops.py\u001b[0m in \u001b[0;36m<module>\u001b[1;34m()\u001b[0m\n\u001b[0;32m     52\u001b[0m \u001b[1;32mfrom\u001b[0m \u001b[0mtensorflow\u001b[0m\u001b[1;33m.\u001b[0m\u001b[0mpython\u001b[0m\u001b[1;33m.\u001b[0m\u001b[0mops\u001b[0m\u001b[1;33m.\u001b[0m\u001b[0mdata_flow_ops\u001b[0m \u001b[1;32mimport\u001b[0m \u001b[1;33m*\u001b[0m\u001b[1;33m\u001b[0m\u001b[0m\n\u001b[0;32m     53\u001b[0m \u001b[1;32mfrom\u001b[0m \u001b[0mtensorflow\u001b[0m\u001b[1;33m.\u001b[0m\u001b[0mpython\u001b[0m\u001b[1;33m.\u001b[0m\u001b[0mops\u001b[0m\u001b[1;33m.\u001b[0m\u001b[0mfunctional_ops\u001b[0m \u001b[1;32mimport\u001b[0m \u001b[1;33m*\u001b[0m\u001b[1;33m\u001b[0m\u001b[0m\n\u001b[1;32m---> 54\u001b[1;33m \u001b[1;32mfrom\u001b[0m \u001b[0mtensorflow\u001b[0m\u001b[1;33m.\u001b[0m\u001b[0mpython\u001b[0m\u001b[1;33m.\u001b[0m\u001b[0mops\u001b[0m\u001b[1;33m.\u001b[0m\u001b[0mgradients\u001b[0m \u001b[1;32mimport\u001b[0m \u001b[1;33m*\u001b[0m\u001b[1;33m\u001b[0m\u001b[0m\n\u001b[0m\u001b[0;32m     55\u001b[0m \u001b[1;32mfrom\u001b[0m \u001b[0mtensorflow\u001b[0m\u001b[1;33m.\u001b[0m\u001b[0mpython\u001b[0m\u001b[1;33m.\u001b[0m\u001b[0mops\u001b[0m\u001b[1;33m.\u001b[0m\u001b[0mhistogram_ops\u001b[0m \u001b[1;32mimport\u001b[0m \u001b[1;33m*\u001b[0m\u001b[1;33m\u001b[0m\u001b[0m\n\u001b[0;32m     56\u001b[0m \u001b[1;32mfrom\u001b[0m \u001b[0mtensorflow\u001b[0m\u001b[1;33m.\u001b[0m\u001b[0mpython\u001b[0m\u001b[1;33m.\u001b[0m\u001b[0mops\u001b[0m\u001b[1;33m.\u001b[0m\u001b[0minit_ops\u001b[0m \u001b[1;32mimport\u001b[0m \u001b[1;33m*\u001b[0m\u001b[1;33m\u001b[0m\u001b[0m\n",
      "\u001b[1;32mc:\\program files\\python36\\lib\\site-packages\\tensorflow\\python\\ops\\gradients.py\u001b[0m in \u001b[0;36m<module>\u001b[1;34m()\u001b[0m\n\u001b[0;32m     20\u001b[0m \u001b[1;33m\u001b[0m\u001b[0m\n\u001b[0;32m     21\u001b[0m \u001b[1;31m# pylint: disable=unused-import\u001b[0m\u001b[1;33m\u001b[0m\u001b[1;33m\u001b[0m\u001b[0m\n\u001b[1;32m---> 22\u001b[1;33m \u001b[1;32mfrom\u001b[0m \u001b[0mtensorflow\u001b[0m\u001b[1;33m.\u001b[0m\u001b[0mpython\u001b[0m\u001b[1;33m.\u001b[0m\u001b[0mops\u001b[0m\u001b[1;33m.\u001b[0m\u001b[0mgradients_impl\u001b[0m \u001b[1;32mimport\u001b[0m \u001b[0mAggregationMethod\u001b[0m\u001b[1;33m\u001b[0m\u001b[0m\n\u001b[0m\u001b[0;32m     23\u001b[0m \u001b[1;32mfrom\u001b[0m \u001b[0mtensorflow\u001b[0m\u001b[1;33m.\u001b[0m\u001b[0mpython\u001b[0m\u001b[1;33m.\u001b[0m\u001b[0mops\u001b[0m\u001b[1;33m.\u001b[0m\u001b[0mgradients_impl\u001b[0m \u001b[1;32mimport\u001b[0m \u001b[0mgradients\u001b[0m\u001b[1;33m\u001b[0m\u001b[0m\n\u001b[0;32m     24\u001b[0m \u001b[1;32mfrom\u001b[0m \u001b[0mtensorflow\u001b[0m\u001b[1;33m.\u001b[0m\u001b[0mpython\u001b[0m\u001b[1;33m.\u001b[0m\u001b[0mops\u001b[0m\u001b[1;33m.\u001b[0m\u001b[0mgradients_impl\u001b[0m \u001b[1;32mimport\u001b[0m \u001b[0mhessians\u001b[0m\u001b[1;33m\u001b[0m\u001b[0m\n",
      "\u001b[1;32mc:\\program files\\python36\\lib\\site-packages\\tensorflow\\python\\ops\\gradients_impl.py\u001b[0m in \u001b[0;36m<module>\u001b[1;34m()\u001b[0m\n\u001b[0;32m     41\u001b[0m \u001b[1;32mfrom\u001b[0m \u001b[0mtensorflow\u001b[0m\u001b[1;33m.\u001b[0m\u001b[0mpython\u001b[0m\u001b[1;33m.\u001b[0m\u001b[0mops\u001b[0m \u001b[1;32mimport\u001b[0m \u001b[0mcontrol_flow_util\u001b[0m\u001b[1;33m\u001b[0m\u001b[0m\n\u001b[0;32m     42\u001b[0m \u001b[1;32mfrom\u001b[0m \u001b[0mtensorflow\u001b[0m\u001b[1;33m.\u001b[0m\u001b[0mpython\u001b[0m\u001b[1;33m.\u001b[0m\u001b[0mops\u001b[0m \u001b[1;32mimport\u001b[0m \u001b[0mfunctional_ops\u001b[0m\u001b[1;33m\u001b[0m\u001b[0m\n\u001b[1;32m---> 43\u001b[1;33m \u001b[1;32mfrom\u001b[0m \u001b[0mtensorflow\u001b[0m\u001b[1;33m.\u001b[0m\u001b[0mpython\u001b[0m\u001b[1;33m.\u001b[0m\u001b[0mops\u001b[0m \u001b[1;32mimport\u001b[0m \u001b[0mimage_grad\u001b[0m  \u001b[1;31m# pylint: disable=unused-import\u001b[0m\u001b[1;33m\u001b[0m\u001b[0m\n\u001b[0m\u001b[0;32m     44\u001b[0m \u001b[1;32mfrom\u001b[0m \u001b[0mtensorflow\u001b[0m\u001b[1;33m.\u001b[0m\u001b[0mpython\u001b[0m\u001b[1;33m.\u001b[0m\u001b[0mops\u001b[0m \u001b[1;32mimport\u001b[0m \u001b[0mlinalg_grad\u001b[0m  \u001b[1;31m# pylint: disable=unused-import\u001b[0m\u001b[1;33m\u001b[0m\u001b[0m\n\u001b[0;32m     45\u001b[0m \u001b[1;32mfrom\u001b[0m \u001b[0mtensorflow\u001b[0m\u001b[1;33m.\u001b[0m\u001b[0mpython\u001b[0m\u001b[1;33m.\u001b[0m\u001b[0mops\u001b[0m \u001b[1;32mimport\u001b[0m \u001b[0mlinalg_ops\u001b[0m  \u001b[1;31m# pylint: disable=unused-import\u001b[0m\u001b[1;33m\u001b[0m\u001b[0m\n",
      "\u001b[1;32mc:\\program files\\python36\\lib\\site-packages\\tensorflow\\python\\ops\\image_grad.py\u001b[0m in \u001b[0;36m<module>\u001b[1;34m()\u001b[0m\n\u001b[0;32m     25\u001b[0m \u001b[1;33m\u001b[0m\u001b[0m\n\u001b[0;32m     26\u001b[0m \u001b[1;33m\u001b[0m\u001b[0m\n\u001b[1;32m---> 27\u001b[1;33m \u001b[1;33m@\u001b[0m\u001b[0mops\u001b[0m\u001b[1;33m.\u001b[0m\u001b[0mRegisterGradient\u001b[0m\u001b[1;33m(\u001b[0m\u001b[1;34m\"ResizeNearestNeighbor\"\u001b[0m\u001b[1;33m)\u001b[0m\u001b[1;33m\u001b[0m\u001b[0m\n\u001b[0m\u001b[0;32m     28\u001b[0m \u001b[1;32mdef\u001b[0m \u001b[0m_ResizeNearestNeighborGrad\u001b[0m\u001b[1;33m(\u001b[0m\u001b[0mop\u001b[0m\u001b[1;33m,\u001b[0m \u001b[0mgrad\u001b[0m\u001b[1;33m)\u001b[0m\u001b[1;33m:\u001b[0m\u001b[1;33m\u001b[0m\u001b[0m\n\u001b[0;32m     29\u001b[0m   \"\"\"The derivatives for nearest neighbor resizing.\n",
      "\u001b[1;32mc:\\program files\\python36\\lib\\site-packages\\tensorflow\\python\\framework\\ops.py\u001b[0m in \u001b[0;36m__call__\u001b[1;34m(self, f)\u001b[0m\n\u001b[0;32m   2327\u001b[0m   \u001b[1;32mdef\u001b[0m \u001b[0m__call__\u001b[0m\u001b[1;33m(\u001b[0m\u001b[0mself\u001b[0m\u001b[1;33m,\u001b[0m \u001b[0mf\u001b[0m\u001b[1;33m)\u001b[0m\u001b[1;33m:\u001b[0m\u001b[1;33m\u001b[0m\u001b[0m\n\u001b[0;32m   2328\u001b[0m     \u001b[1;34m\"\"\"Registers the function `f` as gradient function for `op_type`.\"\"\"\u001b[0m\u001b[1;33m\u001b[0m\u001b[0m\n\u001b[1;32m-> 2329\u001b[1;33m     \u001b[0m_gradient_registry\u001b[0m\u001b[1;33m.\u001b[0m\u001b[0mregister\u001b[0m\u001b[1;33m(\u001b[0m\u001b[0mf\u001b[0m\u001b[1;33m,\u001b[0m \u001b[0mself\u001b[0m\u001b[1;33m.\u001b[0m\u001b[0m_op_type\u001b[0m\u001b[1;33m)\u001b[0m\u001b[1;33m\u001b[0m\u001b[0m\n\u001b[0m\u001b[0;32m   2330\u001b[0m     \u001b[1;32mreturn\u001b[0m \u001b[0mf\u001b[0m\u001b[1;33m\u001b[0m\u001b[0m\n\u001b[0;32m   2331\u001b[0m \u001b[1;33m\u001b[0m\u001b[0m\n",
      "\u001b[1;32mc:\\program files\\python36\\lib\\site-packages\\tensorflow\\python\\framework\\registry.py\u001b[0m in \u001b[0;36mregister\u001b[1;34m(self, candidate, name)\u001b[0m\n\u001b[0;32m     65\u001b[0m     \u001b[1;31m# stack trace is [this_function, Register(), user_function,...]\u001b[0m\u001b[1;33m\u001b[0m\u001b[1;33m\u001b[0m\u001b[0m\n\u001b[0;32m     66\u001b[0m     \u001b[1;31m# so the user function is #2.\u001b[0m\u001b[1;33m\u001b[0m\u001b[1;33m\u001b[0m\u001b[0m\n\u001b[1;32m---> 67\u001b[1;33m     \u001b[0mstack\u001b[0m \u001b[1;33m=\u001b[0m \u001b[0mtraceback\u001b[0m\u001b[1;33m.\u001b[0m\u001b[0mextract_stack\u001b[0m\u001b[1;33m(\u001b[0m\u001b[1;33m)\u001b[0m\u001b[1;33m\u001b[0m\u001b[0m\n\u001b[0m\u001b[0;32m     68\u001b[0m     \u001b[0mself\u001b[0m\u001b[1;33m.\u001b[0m\u001b[0m_registry\u001b[0m\u001b[1;33m[\u001b[0m\u001b[0mname\u001b[0m\u001b[1;33m]\u001b[0m \u001b[1;33m=\u001b[0m \u001b[1;33m{\u001b[0m\u001b[0m_TYPE_TAG\u001b[0m\u001b[1;33m:\u001b[0m \u001b[0mcandidate\u001b[0m\u001b[1;33m,\u001b[0m \u001b[0m_LOCATION_TAG\u001b[0m\u001b[1;33m:\u001b[0m \u001b[0mstack\u001b[0m\u001b[1;33m[\u001b[0m\u001b[1;36m2\u001b[0m\u001b[1;33m]\u001b[0m\u001b[1;33m}\u001b[0m\u001b[1;33m\u001b[0m\u001b[0m\n\u001b[0;32m     69\u001b[0m \u001b[1;33m\u001b[0m\u001b[0m\n",
      "\u001b[1;32mc:\\program files\\python36\\lib\\traceback.py\u001b[0m in \u001b[0;36mextract_stack\u001b[1;34m(f, limit)\u001b[0m\n\u001b[0;32m    205\u001b[0m     \u001b[1;32mif\u001b[0m \u001b[0mf\u001b[0m \u001b[1;32mis\u001b[0m \u001b[1;32mNone\u001b[0m\u001b[1;33m:\u001b[0m\u001b[1;33m\u001b[0m\u001b[0m\n\u001b[0;32m    206\u001b[0m         \u001b[0mf\u001b[0m \u001b[1;33m=\u001b[0m \u001b[0msys\u001b[0m\u001b[1;33m.\u001b[0m\u001b[0m_getframe\u001b[0m\u001b[1;33m(\u001b[0m\u001b[1;33m)\u001b[0m\u001b[1;33m.\u001b[0m\u001b[0mf_back\u001b[0m\u001b[1;33m\u001b[0m\u001b[0m\n\u001b[1;32m--> 207\u001b[1;33m     \u001b[0mstack\u001b[0m \u001b[1;33m=\u001b[0m \u001b[0mStackSummary\u001b[0m\u001b[1;33m.\u001b[0m\u001b[0mextract\u001b[0m\u001b[1;33m(\u001b[0m\u001b[0mwalk_stack\u001b[0m\u001b[1;33m(\u001b[0m\u001b[0mf\u001b[0m\u001b[1;33m)\u001b[0m\u001b[1;33m,\u001b[0m \u001b[0mlimit\u001b[0m\u001b[1;33m=\u001b[0m\u001b[0mlimit\u001b[0m\u001b[1;33m)\u001b[0m\u001b[1;33m\u001b[0m\u001b[0m\n\u001b[0m\u001b[0;32m    208\u001b[0m     \u001b[0mstack\u001b[0m\u001b[1;33m.\u001b[0m\u001b[0mreverse\u001b[0m\u001b[1;33m(\u001b[0m\u001b[1;33m)\u001b[0m\u001b[1;33m\u001b[0m\u001b[0m\n\u001b[0;32m    209\u001b[0m     \u001b[1;32mreturn\u001b[0m \u001b[0mstack\u001b[0m\u001b[1;33m\u001b[0m\u001b[0m\n",
      "\u001b[1;32mc:\\program files\\python36\\lib\\traceback.py\u001b[0m in \u001b[0;36mextract\u001b[1;34m(klass, frame_gen, limit, lookup_lines, capture_locals)\u001b[0m\n\u001b[0;32m    356\u001b[0m         \u001b[1;32mif\u001b[0m \u001b[0mlookup_lines\u001b[0m\u001b[1;33m:\u001b[0m\u001b[1;33m\u001b[0m\u001b[0m\n\u001b[0;32m    357\u001b[0m             \u001b[1;32mfor\u001b[0m \u001b[0mf\u001b[0m \u001b[1;32min\u001b[0m \u001b[0mresult\u001b[0m\u001b[1;33m:\u001b[0m\u001b[1;33m\u001b[0m\u001b[0m\n\u001b[1;32m--> 358\u001b[1;33m                 \u001b[0mf\u001b[0m\u001b[1;33m.\u001b[0m\u001b[0mline\u001b[0m\u001b[1;33m\u001b[0m\u001b[0m\n\u001b[0m\u001b[0;32m    359\u001b[0m         \u001b[1;32mreturn\u001b[0m \u001b[0mresult\u001b[0m\u001b[1;33m\u001b[0m\u001b[0m\n\u001b[0;32m    360\u001b[0m \u001b[1;33m\u001b[0m\u001b[0m\n",
      "\u001b[1;32mc:\\program files\\python36\\lib\\traceback.py\u001b[0m in \u001b[0;36mline\u001b[1;34m(self)\u001b[0m\n\u001b[0;32m    280\u001b[0m     \u001b[1;32mdef\u001b[0m \u001b[0mline\u001b[0m\u001b[1;33m(\u001b[0m\u001b[0mself\u001b[0m\u001b[1;33m)\u001b[0m\u001b[1;33m:\u001b[0m\u001b[1;33m\u001b[0m\u001b[0m\n\u001b[0;32m    281\u001b[0m         \u001b[1;32mif\u001b[0m \u001b[0mself\u001b[0m\u001b[1;33m.\u001b[0m\u001b[0m_line\u001b[0m \u001b[1;32mis\u001b[0m \u001b[1;32mNone\u001b[0m\u001b[1;33m:\u001b[0m\u001b[1;33m\u001b[0m\u001b[0m\n\u001b[1;32m--> 282\u001b[1;33m             \u001b[0mself\u001b[0m\u001b[1;33m.\u001b[0m\u001b[0m_line\u001b[0m \u001b[1;33m=\u001b[0m \u001b[0mlinecache\u001b[0m\u001b[1;33m.\u001b[0m\u001b[0mgetline\u001b[0m\u001b[1;33m(\u001b[0m\u001b[0mself\u001b[0m\u001b[1;33m.\u001b[0m\u001b[0mfilename\u001b[0m\u001b[1;33m,\u001b[0m \u001b[0mself\u001b[0m\u001b[1;33m.\u001b[0m\u001b[0mlineno\u001b[0m\u001b[1;33m)\u001b[0m\u001b[1;33m.\u001b[0m\u001b[0mstrip\u001b[0m\u001b[1;33m(\u001b[0m\u001b[1;33m)\u001b[0m\u001b[1;33m\u001b[0m\u001b[0m\n\u001b[0m\u001b[0;32m    283\u001b[0m         \u001b[1;32mreturn\u001b[0m \u001b[0mself\u001b[0m\u001b[1;33m.\u001b[0m\u001b[0m_line\u001b[0m\u001b[1;33m\u001b[0m\u001b[0m\n\u001b[0;32m    284\u001b[0m \u001b[1;33m\u001b[0m\u001b[0m\n",
      "\u001b[1;32mc:\\program files\\python36\\lib\\linecache.py\u001b[0m in \u001b[0;36mgetline\u001b[1;34m(filename, lineno, module_globals)\u001b[0m\n\u001b[0;32m     14\u001b[0m \u001b[1;33m\u001b[0m\u001b[0m\n\u001b[0;32m     15\u001b[0m \u001b[1;32mdef\u001b[0m \u001b[0mgetline\u001b[0m\u001b[1;33m(\u001b[0m\u001b[0mfilename\u001b[0m\u001b[1;33m,\u001b[0m \u001b[0mlineno\u001b[0m\u001b[1;33m,\u001b[0m \u001b[0mmodule_globals\u001b[0m\u001b[1;33m=\u001b[0m\u001b[1;32mNone\u001b[0m\u001b[1;33m)\u001b[0m\u001b[1;33m:\u001b[0m\u001b[1;33m\u001b[0m\u001b[0m\n\u001b[1;32m---> 16\u001b[1;33m     \u001b[0mlines\u001b[0m \u001b[1;33m=\u001b[0m \u001b[0mgetlines\u001b[0m\u001b[1;33m(\u001b[0m\u001b[0mfilename\u001b[0m\u001b[1;33m,\u001b[0m \u001b[0mmodule_globals\u001b[0m\u001b[1;33m)\u001b[0m\u001b[1;33m\u001b[0m\u001b[0m\n\u001b[0m\u001b[0;32m     17\u001b[0m     \u001b[1;32mif\u001b[0m \u001b[1;36m1\u001b[0m \u001b[1;33m<=\u001b[0m \u001b[0mlineno\u001b[0m \u001b[1;33m<=\u001b[0m \u001b[0mlen\u001b[0m\u001b[1;33m(\u001b[0m\u001b[0mlines\u001b[0m\u001b[1;33m)\u001b[0m\u001b[1;33m:\u001b[0m\u001b[1;33m\u001b[0m\u001b[0m\n\u001b[0;32m     18\u001b[0m         \u001b[1;32mreturn\u001b[0m \u001b[0mlines\u001b[0m\u001b[1;33m[\u001b[0m\u001b[0mlineno\u001b[0m\u001b[1;33m-\u001b[0m\u001b[1;36m1\u001b[0m\u001b[1;33m]\u001b[0m\u001b[1;33m\u001b[0m\u001b[0m\n",
      "\u001b[1;32mc:\\program files\\python36\\lib\\linecache.py\u001b[0m in \u001b[0;36mgetlines\u001b[1;34m(filename, module_globals)\u001b[0m\n\u001b[0;32m     45\u001b[0m \u001b[1;33m\u001b[0m\u001b[0m\n\u001b[0;32m     46\u001b[0m     \u001b[1;32mtry\u001b[0m\u001b[1;33m:\u001b[0m\u001b[1;33m\u001b[0m\u001b[0m\n\u001b[1;32m---> 47\u001b[1;33m         \u001b[1;32mreturn\u001b[0m \u001b[0mupdatecache\u001b[0m\u001b[1;33m(\u001b[0m\u001b[0mfilename\u001b[0m\u001b[1;33m,\u001b[0m \u001b[0mmodule_globals\u001b[0m\u001b[1;33m)\u001b[0m\u001b[1;33m\u001b[0m\u001b[0m\n\u001b[0m\u001b[0;32m     48\u001b[0m     \u001b[1;32mexcept\u001b[0m \u001b[0mMemoryError\u001b[0m\u001b[1;33m:\u001b[0m\u001b[1;33m\u001b[0m\u001b[0m\n\u001b[0;32m     49\u001b[0m         \u001b[0mclearcache\u001b[0m\u001b[1;33m(\u001b[0m\u001b[1;33m)\u001b[0m\u001b[1;33m\u001b[0m\u001b[0m\n",
      "\u001b[1;32mc:\\program files\\python36\\lib\\linecache.py\u001b[0m in \u001b[0;36mupdatecache\u001b[1;34m(filename, module_globals)\u001b[0m\n\u001b[0;32m    134\u001b[0m             \u001b[1;32mreturn\u001b[0m \u001b[1;33m[\u001b[0m\u001b[1;33m]\u001b[0m\u001b[1;33m\u001b[0m\u001b[0m\n\u001b[0;32m    135\u001b[0m     \u001b[1;32mtry\u001b[0m\u001b[1;33m:\u001b[0m\u001b[1;33m\u001b[0m\u001b[0m\n\u001b[1;32m--> 136\u001b[1;33m         \u001b[1;32mwith\u001b[0m \u001b[0mtokenize\u001b[0m\u001b[1;33m.\u001b[0m\u001b[0mopen\u001b[0m\u001b[1;33m(\u001b[0m\u001b[0mfullname\u001b[0m\u001b[1;33m)\u001b[0m \u001b[1;32mas\u001b[0m \u001b[0mfp\u001b[0m\u001b[1;33m:\u001b[0m\u001b[1;33m\u001b[0m\u001b[0m\n\u001b[0m\u001b[0;32m    137\u001b[0m             \u001b[0mlines\u001b[0m \u001b[1;33m=\u001b[0m \u001b[0mfp\u001b[0m\u001b[1;33m.\u001b[0m\u001b[0mreadlines\u001b[0m\u001b[1;33m(\u001b[0m\u001b[1;33m)\u001b[0m\u001b[1;33m\u001b[0m\u001b[0m\n\u001b[0;32m    138\u001b[0m     \u001b[1;32mexcept\u001b[0m \u001b[0mOSError\u001b[0m\u001b[1;33m:\u001b[0m\u001b[1;33m\u001b[0m\u001b[0m\n",
      "\u001b[1;32mc:\\program files\\python36\\lib\\tokenize.py\u001b[0m in \u001b[0;36mopen\u001b[1;34m(filename)\u001b[0m\n\u001b[0;32m    450\u001b[0m     \u001b[0mdetect_encoding\u001b[0m\u001b[1;33m(\u001b[0m\u001b[1;33m)\u001b[0m\u001b[1;33m.\u001b[0m\u001b[1;33m\u001b[0m\u001b[0m\n\u001b[0;32m    451\u001b[0m     \"\"\"\n\u001b[1;32m--> 452\u001b[1;33m     \u001b[0mbuffer\u001b[0m \u001b[1;33m=\u001b[0m \u001b[0m_builtin_open\u001b[0m\u001b[1;33m(\u001b[0m\u001b[0mfilename\u001b[0m\u001b[1;33m,\u001b[0m \u001b[1;34m'rb'\u001b[0m\u001b[1;33m)\u001b[0m\u001b[1;33m\u001b[0m\u001b[0m\n\u001b[0m\u001b[0;32m    453\u001b[0m     \u001b[1;32mtry\u001b[0m\u001b[1;33m:\u001b[0m\u001b[1;33m\u001b[0m\u001b[0m\n\u001b[0;32m    454\u001b[0m         \u001b[0mencoding\u001b[0m\u001b[1;33m,\u001b[0m \u001b[0mlines\u001b[0m \u001b[1;33m=\u001b[0m \u001b[0mdetect_encoding\u001b[0m\u001b[1;33m(\u001b[0m\u001b[0mbuffer\u001b[0m\u001b[1;33m.\u001b[0m\u001b[0mreadline\u001b[0m\u001b[1;33m)\u001b[0m\u001b[1;33m\u001b[0m\u001b[0m\n",
      "\u001b[1;31mKeyboardInterrupt\u001b[0m: "
     ]
    }
   ],
   "source": [
    "import math\n",
    "from IPython import display\n",
    "import numpy as np\n",
    "import pandas as pd\n",
    "import seaborn as sb\n",
    "from sklearn import metrics\n",
    "import tensorflow as tf\n",
    "from tensorflow.python.data import Dataset\n",
    "from matplotlib import cm\n",
    "from matplotlib import gridspec\n",
    "from matplotlib import pyplot as plt\n",
    "from pytrends.request import TrendReq\n",
    "\n",
    "# Configure verbosity\n",
    "tf.logging.set_verbosity(tf.logging.ERROR)"
   ]
  },
  {
   "cell_type": "markdown",
   "metadata": {},
   "source": [
    "We have $X$, $m$ days of data. Each day (each row) has $n$ features. Thus we have:\n",
    "$$ \n",
    "\\left[\\begin{array}{cccc}\n",
    "x^{(1)}_{1} & x^{(1)}_{2} & \\ldots & x^{(1)}_{n} \\\\\n",
    "x^{(2)}_{1} & x^{(2)}_{2} & \\ldots & x^{(2)}_{n} \\\\\n",
    "& & \\vdots \\\\\n",
    "x^{(m)}_{1} & x^{(m)}_{2} & \\ldots & x^{(m)}_{n}\n",
    "\\end{array}\\right] \\times\n",
    "\\left[\\begin{array}{c}\n",
    "w_1 \\\\ w_2 \\\\ \\vdots \\\\ w_n\n",
    "\\end{array}\\right] + b =\n",
    "\\left[\\begin{array}{c}\n",
    "y_1 \\\\ y_2 \\\\ \\vdots \\\\ v_n\n",
    "\\end{array}\\right]\n",
    "$$\n"
   ]
  },
  {
   "cell_type": "code",
   "execution_count": null,
   "metadata": {},
   "outputs": [],
   "source": [
    "# Capture historical BTC price data\n",
    "# Data showing the USD market price from Mt.gox\n",
    "price = ql.get(\"BCHAIN/MKPRU\", collapse=\"weekly\")\n",
    "price = price.rename(columns={\"Value\": \"Price\"})\n",
    "\n",
    "price.plot(title='BTC Market Price', figsize=(18,10))"
   ]
  },
  {
   "cell_type": "code",
   "execution_count": null,
   "metadata": {},
   "outputs": [],
   "source": [
    "# Bitcoin Difficulty\n",
    "# Difficulty is a measure of how difficult it is to find a hash below a given target.\n",
    "diff = ql.get(\"BCHAIN/DIFF\", collapse=\"weekly\")\n",
    "diff = diff.rename(columns={\"Value\": \"Network Difficulty\"})\n",
    "\n",
    "diff.plot(title='BTC Difficulty', figsize=(18,10))"
   ]
  },
  {
   "cell_type": "code",
   "execution_count": null,
   "metadata": {},
   "outputs": [],
   "source": [
    "# Bitcoin Average Block Size\n",
    "# The Average block size in MB\n",
    "avbls = ql.get(\"BCHAIN/AVBLS\", collapse=\"weekly\")\n",
    "avbls = avbls.rename(columns={\"Value\": \"Average Block Size\"})\n",
    "\n",
    "avbls.plot(title='BTC Avg. Block Size', figsize=(18,10))"
   ]
  },
  {
   "cell_type": "code",
   "execution_count": null,
   "metadata": {},
   "outputs": [],
   "source": [
    "# Bitcoin Median Transaction Confirmation Time\n",
    "# The Dailiy Median time take for transactions to be accepted into a block.\n",
    "atrct = ql.get(\"BCHAIN/ATRCT\", collapse=\"weekly\")\n",
    "atrct = atrct.rename(columns={\"Value\": \"Median Confirmation Time\"})\n",
    "\n",
    "atrct.plot(title='BTC Median Confirmation Time', figsize=(18,10))"
   ]
  },
  {
   "cell_type": "code",
   "execution_count": null,
   "metadata": {},
   "outputs": [],
   "source": [
    "# Bitcoin Hash Rate\n",
    "# The estimated number of giga hashes per second \n",
    "# (billions of hashes per second) the bitcoin network is performing.\n",
    "hrate = ql.get(\"BCHAIN/HRATE\", collapse=\"weekly\")\n",
    "hrate = hrate.rename(columns={\"Value\": \"Network Hash Rate\"})\n",
    "\n",
    "hrate.plot(title='BTC Network Hash Rate', figsize=(18,10), logy=True)"
   ]
  },
  {
   "cell_type": "code",
   "execution_count": null,
   "metadata": {},
   "outputs": [],
   "source": [
    "# Bitcoin Cost % of Transaction Volume\n",
    "# Data showing miners revenue as as percentage of the transaction volume.\n",
    "cptrv = ql.get(\"BCHAIN/CPTRV\", collapse=\"weekly\")\n",
    "cptrv = cptrv.rename(columns={\"Value\": \"Cost % of Transaction Volume\"})\n",
    "\n",
    "cptrv.plot(title='BTC Cost % of Transaction Volume', figsize=(18,10), logy=True)"
   ]
  },
  {
   "cell_type": "code",
   "execution_count": null,
   "metadata": {},
   "outputs": [],
   "source": [
    "# Bitcoin Estimated Transaction Volume\n",
    "# Similar to the total output volume with the addition of an algorithm \n",
    "# which attempts to remove change from the total value. This may be a more \n",
    "# accurate reflection of the true transaction volume.\n",
    "etrav = ql.get(\"BCHAIN/ETRAV\", collapse=\"weekly\")\n",
    "etrav = etrav.rename(columns={\"Value\": \"Est. Transaction Volume\"})\n",
    "\n",
    "etrav.plot(title='BTC Est. Transaction Volume', figsize=(18,10), logy=True)"
   ]
  },
  {
   "cell_type": "code",
   "execution_count": null,
   "metadata": {},
   "outputs": [],
   "source": [
    "# Bitcoin Total Output Volume\n",
    "# The total value of all transaction outputs per day. This includes coins \n",
    "# which were returned to the sender as change.\n",
    "toutv = ql.get(\"BCHAIN/TOUTV\", collapse=\"weekly\")\n",
    "toutv = toutv.rename(columns={\"Value\": \"Total Output Volume\"})\n",
    "\n",
    "toutv.plot(title='BTC Total Output Volume', figsize=(18,10), logy=True)"
   ]
  },
  {
   "cell_type": "code",
   "execution_count": null,
   "metadata": {},
   "outputs": [],
   "source": [
    "# Bitcoin Number of Transactions per Block\n",
    "# The average number of transactions per block.\n",
    "ntrbl = ql.get(\"BCHAIN/NTRBL\", collapse=\"weekly\")\n",
    "ntrbl = ntrbl.rename(columns={\"Value\": \"Number of Transactions per Block\"})\n",
    "\n",
    "ntrbl.plot(title='BTC Number of Transactions per Block', figsize=(18,10), logy=True)"
   ]
  },
  {
   "cell_type": "code",
   "execution_count": null,
   "metadata": {},
   "outputs": [],
   "source": [
    "# Bitcoin Number of Unique Bitcoin Addresses Used\n",
    "# Number of unique bitcoin addresses used per day.\n",
    "naddu = ql.get(\"BCHAIN/NADDU\", collapse=\"weekly\")\n",
    "naddu = naddu.rename(columns={\"Value\": \"Number of Unique Bitcoin Addresses Used\"})\n",
    "\n",
    "naddu.plot(title='BTC Number of Unique Bitcoin Addresses Used', figsize=(18,10), logy=True)"
   ]
  },
  {
   "cell_type": "code",
   "execution_count": null,
   "metadata": {},
   "outputs": [],
   "source": [
    "# Bitcoin Number of Transactions Excluding Popular Addresses\n",
    "# Data showing the total number of unique bitcoin transactions per day excluding those \n",
    "# which involve any of the top 100 most popular addresses popular addresses.\n",
    "ntrep = ql.get(\"BCHAIN/NTREP\", collapse=\"weekly\")\n",
    "ntrep = ntrep.rename(columns={\"Value\": \"Number of Transactions Excluding Popular Addresses\"})\n",
    "\n",
    "ntrep.plot(title='BTC Number of Transactions Excluding Popular Addresses', figsize=(18,10), logy=True)"
   ]
  },
  {
   "cell_type": "code",
   "execution_count": null,
   "metadata": {},
   "outputs": [],
   "source": [
    "# Bitcoin Total Number of Transactions\n",
    "# Total number of unique bitcoin transactions per day.\n",
    "ntrat = ql.get(\"BCHAIN/NTRAT\", collapse=\"weekly\")\n",
    "ntrat = ntrat.rename(columns={\"Value\": \"Total Number of Transactions\"})\n",
    "\n",
    "ntrat.plot(title='BTC Total Number of Transactions', figsize=(18,10), logy=True)"
   ]
  },
  {
   "cell_type": "code",
   "execution_count": null,
   "metadata": {},
   "outputs": [],
   "source": [
    "# Bitcoin Number of Transactions\n",
    "# Total number of unique bitcoin transactions per day.\n",
    "ntran = ql.get(\"BCHAIN/NTRAN\", collapse=\"weekly\")\n",
    "ntran = ntran.rename(columns={\"Value\": \"Number of Transactions\"})\n",
    "\n",
    "ntran.plot(title='BTC Number of Transactions', figsize=(18,10), logy=True)"
   ]
  },
  {
   "cell_type": "code",
   "execution_count": null,
   "metadata": {},
   "outputs": [],
   "source": [
    "# Bitcoin Total Transaction Fees\n",
    "# Data showing the total BTC value of transaction fees miners earn per day.\n",
    "trfee = ql.get(\"BCHAIN/TRFEE\", collapse=\"weekly\")\n",
    "trfee = trfee.rename(columns={\"Value\": \"Total Transaction Fees\"})\n",
    "\n",
    "trfee.plot(title='BTC Total Transaction Fees', figsize=(18,10), logy=True)"
   ]
  },
  {
   "cell_type": "code",
   "execution_count": null,
   "metadata": {},
   "outputs": [],
   "source": [
    "# Total Bitcoins\n",
    "# Data showing the historical total number of bitcoins which have been mined.\n",
    "totbc = ql.get(\"BCHAIN/TOTBC\", collapse=\"weekly\")\n",
    "totbc = totbc.rename(columns={\"Value\": \"Total Bitcoins\"})\n",
    "\n",
    "totbc.plot(title='BTC Total Bitcoins', figsize=(18,10), logy=True)"
   ]
  },
  {
   "cell_type": "code",
   "execution_count": null,
   "metadata": {},
   "outputs": [],
   "source": [
    "# Bitcoin Miners Revenue\n",
    "# Historical data showing: \n",
    "# (number of bitcoins mined per day + transaction fees) * market price.\n",
    "mirev = ql.get(\"BCHAIN/MIREV\", collapse=\"weekly\")\n",
    "mirev = mirev.rename(columns={\"Value\": \"Miners Revenue\"})\n",
    "\n",
    "mirev.plot(title='BTC Miners Revenue', figsize=(18,10), logy=True)"
   ]
  },
  {
   "cell_type": "code",
   "execution_count": null,
   "metadata": {},
   "outputs": [],
   "source": [
    "# Bitcoin Cost Per Transaction\n",
    "# Data showing miners revenue divided by the number of transactions.\n",
    "cptra = ql.get(\"BCHAIN/CPTRA\", collapse=\"weekly\")\n",
    "cptra = cptra.rename(columns={\"Value\": \"Cost Per Transaction\"})\n",
    "\n",
    "cptra.plot(title='BTC Cost Per Transaction', figsize=(18,10), logy=True)"
   ]
  },
  {
   "cell_type": "code",
   "execution_count": null,
   "metadata": {},
   "outputs": [],
   "source": [
    "# Bitcoin USD Exchange Trade Volume\n",
    "# Data showing the USD trade volume from the top exchanges.\n",
    "trvou = ql.get(\"BCHAIN/TRVOU\", collapse=\"weekly\")\n",
    "trvou = trvou.rename(columns={\"Value\": \"USD Exchange Trade Volume\"})\n",
    "\n",
    "trvou.plot(title='USD Exchange Trade Volume', figsize=(18,10), logy=True)"
   ]
  },
  {
   "cell_type": "code",
   "execution_count": null,
   "metadata": {},
   "outputs": [],
   "source": [
    "# Bitcoin Estimated Transaction Volume USD\n",
    "# Similar to the total output volume with the addition of an algorithm \n",
    "# which attempts to remove change from the total value. This may be a \n",
    "# more accurate reflection of the true transaction volume.\n",
    "etrvu = ql.get(\"BCHAIN/ETRVU\", collapse=\"weekly\")\n",
    "etrvu = etrvu.rename(columns={\"Value\": \"Est. Transaction Volume USD\"})\n",
    "\n",
    "etrvu.plot(title='Est. Transaction Volume USD', figsize=(18,10), logy=True)"
   ]
  },
  {
   "cell_type": "code",
   "execution_count": null,
   "metadata": {},
   "outputs": [],
   "source": [
    "# Bitcoin Total Transaction Fees USD\n",
    "# Data showing the total BTC value of transaction fees miners earn per day in USD.\n",
    "trfus = ql.get(\"BCHAIN/TRFUS\", collapse=\"weekly\")\n",
    "trfus = trfus.rename(columns={\"Value\": \"Total Transaction Fees USD\"})\n",
    "\n",
    "trfus.plot(title='Total Transaction Fees USD', figsize=(18,10), logy=True)"
   ]
  },
  {
   "cell_type": "code",
   "execution_count": null,
   "metadata": {},
   "outputs": [],
   "source": [
    "# Bitcoin Market Capitalization\n",
    "# Data showing the total number of bitcoins in circulation at the market price in USD.\n",
    "mktcp = ql.get(\"BCHAIN/MKTCP\", collapse=\"weekly\")\n",
    "mktcp = mktcp.rename(columns={\"Value\": \"Market Capitalization\"})\n",
    "\n",
    "mktcp.plot(title='BTC Market Capitalization', figsize=(18,10), logy=True)"
   ]
  },
  {
   "cell_type": "code",
   "execution_count": null,
   "metadata": {},
   "outputs": [],
   "source": [
    "# Bitcoin api.blockchain Size\n",
    "# The total size of all block headers and transactions. \n",
    "# Not including database indexes.\n",
    "blchs = ql.get(\"BCHAIN/BLCHS\", collapse=\"weekly\")\n",
    "blchs = blchs.rename(columns={\"Value\": \"api.blockchain Size\"})\n",
    "\n",
    "blchs.plot(title='BTC api.blockchain Size', figsize=(18,10), logy=True)"
   ]
  },
  {
   "cell_type": "code",
   "execution_count": null,
   "metadata": {},
   "outputs": [],
   "source": [
    "# Bitcoin My Wallet Number of Transaction Per Day\n",
    "# Number of transactions made by MyWallet Users per day.\n",
    "mwntd = ql.get(\"BCHAIN/MWNTD\", collapse=\"weekly\")\n",
    "mwntd = mwntd.rename(columns={\"Value\": \"BTC Wallet Transactions Per Day\"})\n",
    "\n",
    "mwntd.plot(title='BTC Wallet Transactions Per Day', figsize=(18,10), logy=True)"
   ]
  },
  {
   "cell_type": "code",
   "execution_count": null,
   "metadata": {},
   "outputs": [],
   "source": [
    "# Bitcoin My Wallet Number of Users\n",
    "# Number of wallets hosts using our MyWallet Service.\n",
    "mwnus = ql.get(\"BCHAIN/MWNUS\", collapse=\"weekly\")\n",
    "mwnus = mwnus.rename(columns={\"Value\": \"BTC Wallet Number of Users\"})\n",
    "\n",
    "mwnus.plot(title='BTC Wallet Number of Users', figsize=(18,10), logy=True)"
   ]
  },
  {
   "cell_type": "code",
   "execution_count": null,
   "metadata": {},
   "outputs": [],
   "source": [
    "# Bitcoin My Wallet Transaction Volume\n",
    "# 24hr Transaction Volume of our MyWallet service.\n",
    "mwtrv = ql.get(\"BCHAIN/MWTRV\", collapse=\"weekly\")\n",
    "mwtrv = mwtrv.rename(columns={\"Value\": \"BTC Wallet Transaction Volume\"})\n",
    "\n",
    "mwtrv.plot(title='BTC Wallet Transaction Volume', figsize=(18,10), logy=True)"
   ]
  },
  {
   "cell_type": "code",
   "execution_count": null,
   "metadata": {},
   "outputs": [],
   "source": [
    "# Data Currently Not Used\n",
    "#############################################\n",
    "# Bitcoin Days Destroyed (Minimum Age 1 Year)\n",
    "bcddy = ql.get(\"BCHAIN/BCDDY\", collapse=\"weekly\")\n",
    "bcddy = bcddy.rename(columns={\"Value\": \"Days Destroyed (Minimum Age 1 Year)\"})\n",
    "\n",
    "bcddy.plot(title='BTC Days Destroyed (Minimum Age 1 Year', figsize=(18,10), logy=True)"
   ]
  },
  {
   "cell_type": "code",
   "execution_count": null,
   "metadata": {},
   "outputs": [],
   "source": [
    "# Bitcoin Days Destroyed (Minimum Age 1 Month)\n",
    "bcddm = ql.get(\"BCHAIN/BCDDM\", collapse=\"weekly\")\n",
    "bcddm = bcddm.rename(columns={\"Value\": \"Days Destroyed (Minimum Age 1 Month)\"})\n",
    "\n",
    "bcddm.plot(title='BTC Days Destroyed (Minimum Age 1 Month', figsize=(18,10), logy=True)"
   ]
  },
  {
   "cell_type": "code",
   "execution_count": null,
   "metadata": {},
   "outputs": [],
   "source": [
    "# Bitcoin Days Destroyed (Minimum Age 1 Week)\n",
    "bcddw = ql.get(\"BCHAIN/BCDDW\", collapse=\"weekly\")\n",
    "bcddw = bcddw.rename(columns={\"Value\": \"Days Destroyed (Minimum Age 1 Week)\"})\n",
    "\n",
    "bcddw.plot(title='BTC Days Destroyed (Minimum Age 1 Week', figsize=(18,10), logy=True)"
   ]
  },
  {
   "cell_type": "code",
   "execution_count": null,
   "metadata": {},
   "outputs": [],
   "source": [
    "# Bitcoin Days Destroyed\n",
    "bcdde = ql.get(\"BCHAIN/BCDDE\", collapse=\"weekly\")\n",
    "bcdde = bcdde.rename(columns={\"Value\": \"Days Destroyed\"})\n",
    "\n",
    "bcdde.plot(title='BTC Days Destroyed', figsize=(18,10), logy=True)"
   ]
  },
  {
   "cell_type": "code",
   "execution_count": null,
   "metadata": {},
   "outputs": [],
   "source": [
    "# Bitcoin Days Destroyed Cumulative\n",
    "bcddc = ql.get(\"BCHAIN/BCDDC\", collapse=\"weekly\")\n",
    "bcddc = bcddc.rename(columns={\"Value\": \"Days Destroyed Cumulative\"})\n",
    "\n",
    "bcddc.plot(title='BTC Days Destroyed Cumulative', figsize=(18,10), logy=True)"
   ]
  },
  {
   "cell_type": "code",
   "execution_count": null,
   "metadata": {},
   "outputs": [],
   "source": [
    "# Bitcoin Trade Volume vs Transaction Volume Ratio\n",
    "# Data showing the relationship between BTC transaction volume and USD exchange volume.\n",
    "tvtvr = ql.get(\"BCHAIN/TVTVR\", collapse=\"weekly\")\n",
    "tvtvr = tvtvr.rename(columns={\"Value\": \"Trade Volume vs Transaction Volume Ratio\"})\n",
    "\n",
    "tvtvr.plot(title='BTC Trade Volume vs Transaction Volume Ratio', figsize=(18,10), logy=True)"
   ]
  },
  {
   "cell_type": "code",
   "execution_count": null,
   "metadata": {},
   "outputs": [],
   "source": [
    "# Bitcoin Network Deficit\n",
    "# Data showing difference between transaction fees and cost of bitcoin mining.\n",
    "netdf = ql.get(\"BCHAIN/NETDF\", collapse=\"weekly\")\n",
    "netdf = netdf.rename(columns={\"Value\": \"Network Deficit\"})\n",
    "\n",
    "netdf.plot(title='BTC Network Deficit', figsize=(18,10))"
   ]
  },
  {
   "cell_type": "code",
   "execution_count": null,
   "metadata": {},
   "outputs": [],
   "source": [
    "# Bitcoin Mining Operating Margin\n",
    "# Data showing miners revenue minus estimated electricity and bandwidth costs.\n",
    "miopm = ql.get(\"BCHAIN/MIOPM\", collapse=\"weekly\")\n",
    "miopm = miopm.rename(columns={\"Value\": \"Mining Operating Margin\"})\n",
    "\n",
    "miopm.plot(title='BTC Mining Operating Margin', figsize=(18,10), logy=True)"
   ]
  },
  {
   "cell_type": "markdown",
   "metadata": {},
   "source": [
    "## Google Search Trends\n",
    "### A Proxy for Market Demand"
   ]
  },
  {
   "cell_type": "code",
   "execution_count": null,
   "metadata": {},
   "outputs": [],
   "source": [
    "# Create a Google Trend Object\n",
    "pytrends = TrendReq(hl='en-US', tz=360)\n",
    "\n",
    "# Declare a var to store the search term\n",
    "kw_list = [\"bitcoin\"]\n",
    "\n",
    "# Build payload request to get data from Google trends\n",
    "# timeframe='2009-01-03 2018-05-26'\n",
    "# timeframe='2009-01-03 2013-06-26'\n",
    "# timeframe='today 5-y'\n",
    "pytrends.build_payload(kw_list, cat=0, timeframe='2009-01-03 2018-06-06', geo='', gprop='')\n",
    "\n",
    "# Get interest over time\n",
    "pytrends.interest_over_time()\n",
    "\n",
    "# Plot the Interest\n",
    "pytrends.interest_over_time().plot(figsize=(20,10))"
   ]
  },
  {
   "cell_type": "markdown",
   "metadata": {},
   "source": [
    "### PreProcessing"
   ]
  },
  {
   "cell_type": "code",
   "execution_count": null,
   "metadata": {},
   "outputs": [],
   "source": [
    "# testing the data structure and its values\n",
    "frames = [price, diff, mwntd, mwnus, mwtrv, avbls, blchs,\n",
    "          atrct, hrate, cptrv, etrav, toutv, ntrbl, naddu,\n",
    "          ntrep, ntrat, ntran, trfee, totbc, mirev, cptra,\n",
    "          trvou, etrvu, trfus, mktcp]\n",
    "#, bcddy, bcddm, bcddw, bcdde, bcddc, tvtvr, netdf, miopm]"
   ]
  },
  {
   "cell_type": "code",
   "execution_count": null,
   "metadata": {},
   "outputs": [],
   "source": []
  },
  {
   "cell_type": "code",
   "execution_count": null,
   "metadata": {},
   "outputs": [],
   "source": [
    "btcData = pd.concat(frames, axis=1)\n",
    "btcData.shape"
   ]
  },
  {
   "cell_type": "code",
   "execution_count": null,
   "metadata": {},
   "outputs": [],
   "source": [
    "btcData.describe()"
   ]
  },
  {
   "cell_type": "markdown",
   "metadata": {},
   "source": [
    "### Heatmap Correlation Studies"
   ]
  },
  {
   "cell_type": "code",
   "execution_count": null,
   "metadata": {},
   "outputs": [],
   "source": [
    "btcCorr = btcData.corr()"
   ]
  },
  {
   "cell_type": "code",
   "execution_count": null,
   "metadata": {},
   "outputs": [],
   "source": [
    "plt.figure(figsize = (33,33))\n",
    "sb.heatmap(btcCorr, annot = True, linewidths = .5, cmap = \"coolwarm\")"
   ]
  },
  {
   "cell_type": "markdown",
   "metadata": {},
   "source": [
    "### Learning & Modeling"
   ]
  },
  {
   "cell_type": "code",
   "execution_count": null,
   "metadata": {},
   "outputs": [],
   "source": [
    "btcData = btcData.drop(['Date'], 1)\n",
    "\n",
    "#Define Targets & Features\n",
    "targets = btcData[\"Price\"]\n",
    "\n",
    "feature = btcData[\"Cost % of Transaction Volume\"]\n",
    "\n",
    "# Configure a numeric feature column for Cost % of Transaction Volume.\n",
    "feature_columns = [tf.feature_column.numeric_column(\"Cost % of Transaction Volume\")]\n",
    "\n",
    "# Configure Linear Regressor\n",
    "\n",
    "# Use gradient descent as the optimizer for training the model.\n",
    "my_optimizer=tf.train.GradientDescentOptimizer(learning_rate=0.0000001)\n",
    "my_optimizer = tf.contrib.estimator.clip_gradients_by_norm(my_optimizer, 5.0)\n",
    "\n",
    "# Configure the linear regression model with our feature columns and optimizer.\n",
    "# Set a learning rate of 0.0000001 for Gradient Descent.\n",
    "linear_regressor = tf.estimator.LinearRegressor(\n",
    "    feature_columns=feature_columns,\n",
    "    optimizer=my_optimizer\n",
    ")\n",
    "\n",
    "\n",
    "# Define Input Function\n",
    "def my_input_fn(features, targets, batch_size=1, shuffle=False, num_epochs=None):\n",
    "    \"\"\"Trains a linear regression model of one feature.\n",
    "  \n",
    "    Args:\n",
    "      features: pandas DataFrame of features\n",
    "      targets: pandas DataFrame of targets\n",
    "      batch_size: Size of batches to be passed to the model\n",
    "      shuffle: True or False. Whether to shuffle the data.\n",
    "      num_epochs: Number of epochs for which data should be repeated. None = repeat indefinitely\n",
    "    Returns:\n",
    "      Tuple of (features, labels) for next data batch\n",
    "    \"\"\"\n",
    "  \n",
    "    # Convert pandas data into a dict of np arrays.\n",
    "    features = {key:np.array(value) for key,value in dict(features).items()}                                           \n",
    " \n",
    "    # Construct a dataset, and configure batching/repeating.\n",
    "    ds = Dataset.from_tensor_slices((features,targets)) # warning: 2GB limit\n",
    "    ds = ds.batch(batch_size).repeat(num_epochs)\n",
    "    \n",
    "    # Shuffle the data, if specified.\n",
    "    if shuffle:\n",
    "      ds = ds.shuffle(buffer_size=10000)\n",
    "    \n",
    "    # Return the next batch of data.\n",
    "    features, labels = ds.make_one_shot_iterator().get_next()\n",
    "    return features, labels\n",
    "\n",
    "\n",
    "# Train Model\n",
    "_ = linear_regressor.train(\n",
    "    input_fn = lambda:my_input_fn(feature, targets),\n",
    "    steps=100\n",
    ")\n",
    "\n",
    "# Create an input function for predictions.\n",
    "# Note: Since we're making just one prediction for each example, we don't \n",
    "# need to repeat or shuffle the data here.\n",
    "prediction_input_fn =lambda: my_input_fn(feature, targets, num_epochs=1, shuffle=False)\n",
    "\n",
    "# Call predict() on the linear_regressor to make predictions.\n",
    "predictions = linear_regressor.predict(input_fn=prediction_input_fn)\n",
    "\n",
    "# Format predictions as a NumPy array, so we can calculate error metrics.\n",
    "predictions = np.array([item['predictions'][0] for item in predictions])\n",
    "\n",
    "# Print Mean Squared Error and Root Mean Squared Error.\n",
    "mean_squared_error = metrics.mean_squared_error(predictions, targets)\n",
    "root_mean_squared_error = math.sqrt(mean_squared_error)\n",
    "print (\"Mean Squared Error (on training data): %0.3f\" % mean_squared_error)\n",
    "print (\"Root Mean Squared Error (on training data): %0.3f\" % root_mean_squared_error)"
   ]
  },
  {
   "cell_type": "markdown",
   "metadata": {},
   "source": [
    "### Evaluation\n",
    "\n",
    "### Prediction"
   ]
  },
  {
   "cell_type": "code",
   "execution_count": null,
   "metadata": {},
   "outputs": [],
   "source": []
  },
  {
   "cell_type": "code",
   "execution_count": null,
   "metadata": {},
   "outputs": [],
   "source": []
  },
  {
   "cell_type": "code",
   "execution_count": null,
   "metadata": {},
   "outputs": [],
   "source": []
  },
  {
   "cell_type": "markdown",
   "metadata": {},
   "source": [
    "### References\n",
    "\n",
    "$^{1}$ https://en.bitcoin.it/wiki/Main_Page\n",
    "\n",
    "$^{2}$ http://www.weidai.com/bmoney.txt\n",
    "\n",
    "$^{3}$ *PKI: Implementing and Managing E-Security*. RSA Press. 2001\n",
    "\n",
    "$^{4}$ Reference\n",
    "\n",
    "$^{5}$ Reference\n",
    "\n",
    "$^{6}$ Reference\n",
    "\n",
    "$^{7}$ Reference\n",
    "\n",
    "$^{8}$ Reference\n",
    "\n",
    "$^{9}$ Reference\n",
    "\n",
    "$^{10}$ Reference\n",
    "\n",
    "$^{11}$ Reference\n",
    "\n",
    "$^{12}$ Reference\n",
    "\n",
    "$^{17}$ http://www.cgap.org/blog/10-things-you-thought-you-knew-about-m-pesa\n",
    "\n",
    "$^{18} $http://www.cgap.org/blog/why-does-m-pesa-lift-kenyans-out-poverty\n",
    "\n",
    "$^{19}$ https://squareup.com/guides/credit-card-processing-fees-and-rates\n",
    "\n",
    "$^{20}$ https://www.cnbcafrica.com/news/east-africa/2017/01/04/mpesa-economic-impact-on-kenya/"
   ]
  },
  {
   "cell_type": "code",
   "execution_count": null,
   "metadata": {},
   "outputs": [],
   "source": []
  }
 ],
 "metadata": {
  "kernelspec": {
   "display_name": "Python 3",
   "language": "python",
   "name": "python3"
  },
  "language_info": {
   "codemirror_mode": {
    "name": "ipython",
    "version": 3
   },
   "file_extension": ".py",
   "mimetype": "text/x-python",
   "name": "python",
   "nbconvert_exporter": "python",
   "pygments_lexer": "ipython3",
   "version": "3.6.5rc1"
  }
 },
 "nbformat": 4,
 "nbformat_minor": 2
}
