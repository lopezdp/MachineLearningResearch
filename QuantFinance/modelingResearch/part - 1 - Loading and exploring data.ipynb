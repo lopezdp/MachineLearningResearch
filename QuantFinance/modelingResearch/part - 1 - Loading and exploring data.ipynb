{
 "cells": [
  {
   "cell_type": "code",
   "execution_count": 1,
   "metadata": {
    "collapsed": true
   },
   "outputs": [],
   "source": [
    "import pandas\n",
    "import matplotlib.pyplot as plt\n",
    "import seaborn as sns"
   ]
  },
  {
   "cell_type": "code",
   "execution_count": 3,
   "metadata": {},
   "outputs": [],
   "source": [
    "data=pandas.read_html(\"https://coinmarketcap.com/currencies/bitcoin/historical-data/?start=20130428&end=20180527\")"
   ]
  },
  {
   "cell_type": "code",
   "execution_count": 4,
   "metadata": {},
   "outputs": [
    {
     "data": {
      "text/plain": [
       "list"
      ]
     },
     "execution_count": 4,
     "metadata": {},
     "output_type": "execute_result"
    }
   ],
   "source": [
    "type(data)"
   ]
  },
  {
   "cell_type": "code",
   "execution_count": 5,
   "metadata": {
    "collapsed": true
   },
   "outputs": [],
   "source": [
    "data=data[0]"
   ]
  },
  {
   "cell_type": "code",
   "execution_count": 6,
   "metadata": {},
   "outputs": [
    {
     "data": {
      "text/plain": [
       "pandas.core.frame.DataFrame"
      ]
     },
     "execution_count": 6,
     "metadata": {},
     "output_type": "execute_result"
    }
   ],
   "source": [
    "type(data)"
   ]
  },
  {
   "cell_type": "code",
   "execution_count": 7,
   "metadata": {},
   "outputs": [
    {
     "data": {
      "text/html": [
       "<div>\n",
       "<style>\n",
       "    .dataframe thead tr:only-child th {\n",
       "        text-align: right;\n",
       "    }\n",
       "\n",
       "    .dataframe thead th {\n",
       "        text-align: left;\n",
       "    }\n",
       "\n",
       "    .dataframe tbody tr th {\n",
       "        vertical-align: top;\n",
       "    }\n",
       "</style>\n",
       "<table border=\"1\" class=\"dataframe\">\n",
       "  <thead>\n",
       "    <tr style=\"text-align: right;\">\n",
       "      <th></th>\n",
       "      <th>Date</th>\n",
       "      <th>Open*</th>\n",
       "      <th>High</th>\n",
       "      <th>Low</th>\n",
       "      <th>Close**</th>\n",
       "      <th>Volume</th>\n",
       "      <th>Market Cap</th>\n",
       "    </tr>\n",
       "  </thead>\n",
       "  <tbody>\n",
       "    <tr>\n",
       "      <th>0</th>\n",
       "      <td>May 26, 2018</td>\n",
       "      <td>7486.48</td>\n",
       "      <td>7595.16</td>\n",
       "      <td>7349.12</td>\n",
       "      <td>7355.88</td>\n",
       "      <td>4051540000</td>\n",
       "      <td>127682000000</td>\n",
       "    </tr>\n",
       "    <tr>\n",
       "      <th>1</th>\n",
       "      <td>May 25, 2018</td>\n",
       "      <td>7592.30</td>\n",
       "      <td>7659.14</td>\n",
       "      <td>7392.65</td>\n",
       "      <td>7480.14</td>\n",
       "      <td>4867830000</td>\n",
       "      <td>129470000000</td>\n",
       "    </tr>\n",
       "    <tr>\n",
       "      <th>2</th>\n",
       "      <td>May 24, 2018</td>\n",
       "      <td>7561.12</td>\n",
       "      <td>7738.60</td>\n",
       "      <td>7331.14</td>\n",
       "      <td>7587.34</td>\n",
       "      <td>6049220000</td>\n",
       "      <td>128925000000</td>\n",
       "    </tr>\n",
       "    <tr>\n",
       "      <th>3</th>\n",
       "      <td>May 23, 2018</td>\n",
       "      <td>8037.08</td>\n",
       "      <td>8054.66</td>\n",
       "      <td>7507.88</td>\n",
       "      <td>7557.82</td>\n",
       "      <td>6491120000</td>\n",
       "      <td>137024000000</td>\n",
       "    </tr>\n",
       "    <tr>\n",
       "      <th>4</th>\n",
       "      <td>May 22, 2018</td>\n",
       "      <td>8419.87</td>\n",
       "      <td>8423.25</td>\n",
       "      <td>8004.58</td>\n",
       "      <td>8041.78</td>\n",
       "      <td>5137010000</td>\n",
       "      <td>143534000000</td>\n",
       "    </tr>\n",
       "  </tbody>\n",
       "</table>\n",
       "</div>"
      ],
      "text/plain": [
       "           Date    Open*     High      Low  Close**      Volume    Market Cap\n",
       "0  May 26, 2018  7486.48  7595.16  7349.12  7355.88  4051540000  127682000000\n",
       "1  May 25, 2018  7592.30  7659.14  7392.65  7480.14  4867830000  129470000000\n",
       "2  May 24, 2018  7561.12  7738.60  7331.14  7587.34  6049220000  128925000000\n",
       "3  May 23, 2018  8037.08  8054.66  7507.88  7557.82  6491120000  137024000000\n",
       "4  May 22, 2018  8419.87  8423.25  8004.58  8041.78  5137010000  143534000000"
      ]
     },
     "execution_count": 7,
     "metadata": {},
     "output_type": "execute_result"
    }
   ],
   "source": [
    "data.head()"
   ]
  },
  {
   "cell_type": "code",
   "execution_count": 8,
   "metadata": {},
   "outputs": [
    {
     "data": {
      "text/plain": [
       "(1855, 7)"
      ]
     },
     "execution_count": 8,
     "metadata": {},
     "output_type": "execute_result"
    }
   ],
   "source": [
    "data.shape"
   ]
  },
  {
   "cell_type": "code",
   "execution_count": 9,
   "metadata": {},
   "outputs": [
    {
     "name": "stdout",
     "output_type": "stream",
     "text": [
      "<class 'pandas.core.frame.DataFrame'>\n",
      "RangeIndex: 1855 entries, 0 to 1854\n",
      "Data columns (total 7 columns):\n",
      "Date          1855 non-null object\n",
      "Open*         1855 non-null float64\n",
      "High          1855 non-null float64\n",
      "Low           1855 non-null float64\n",
      "Close**       1855 non-null float64\n",
      "Volume        1855 non-null object\n",
      "Market Cap    1855 non-null int64\n",
      "dtypes: float64(4), int64(1), object(2)\n",
      "memory usage: 101.5+ KB\n"
     ]
    }
   ],
   "source": [
    "data.info()"
   ]
  },
  {
   "cell_type": "code",
   "execution_count": 34,
   "metadata": {
    "collapsed": true
   },
   "outputs": [],
   "source": [
    "bitcoin=data.copy()"
   ]
  },
  {
   "cell_type": "code",
   "execution_count": 43,
   "metadata": {
    "collapsed": true
   },
   "outputs": [],
   "source": [
    "bitcoin.replace('-',0,inplace=True)"
   ]
  },
  {
   "cell_type": "code",
   "execution_count": 12,
   "metadata": {},
   "outputs": [
    {
     "data": {
      "text/html": [
       "<div>\n",
       "<style>\n",
       "    .dataframe thead tr:only-child th {\n",
       "        text-align: right;\n",
       "    }\n",
       "\n",
       "    .dataframe thead th {\n",
       "        text-align: left;\n",
       "    }\n",
       "\n",
       "    .dataframe tbody tr th {\n",
       "        vertical-align: top;\n",
       "    }\n",
       "</style>\n",
       "<table border=\"1\" class=\"dataframe\">\n",
       "  <thead>\n",
       "    <tr style=\"text-align: right;\">\n",
       "      <th></th>\n",
       "      <th>Date</th>\n",
       "      <th>Open*</th>\n",
       "      <th>High</th>\n",
       "      <th>Low</th>\n",
       "      <th>Close**</th>\n",
       "      <th>Volume</th>\n",
       "      <th>Market Cap</th>\n",
       "    </tr>\n",
       "  </thead>\n",
       "  <tbody>\n",
       "    <tr>\n",
       "      <th>1850</th>\n",
       "      <td>May 02, 2013</td>\n",
       "      <td>116.38</td>\n",
       "      <td>125.60</td>\n",
       "      <td>92.28</td>\n",
       "      <td>105.21</td>\n",
       "      <td>0</td>\n",
       "      <td>1292190000</td>\n",
       "    </tr>\n",
       "    <tr>\n",
       "      <th>1851</th>\n",
       "      <td>May 01, 2013</td>\n",
       "      <td>139.00</td>\n",
       "      <td>139.89</td>\n",
       "      <td>107.72</td>\n",
       "      <td>116.99</td>\n",
       "      <td>0</td>\n",
       "      <td>1542820000</td>\n",
       "    </tr>\n",
       "    <tr>\n",
       "      <th>1852</th>\n",
       "      <td>Apr 30, 2013</td>\n",
       "      <td>144.00</td>\n",
       "      <td>146.93</td>\n",
       "      <td>134.05</td>\n",
       "      <td>139.00</td>\n",
       "      <td>0</td>\n",
       "      <td>1597780000</td>\n",
       "    </tr>\n",
       "    <tr>\n",
       "      <th>1853</th>\n",
       "      <td>Apr 29, 2013</td>\n",
       "      <td>134.44</td>\n",
       "      <td>147.49</td>\n",
       "      <td>134.00</td>\n",
       "      <td>144.54</td>\n",
       "      <td>0</td>\n",
       "      <td>1491160000</td>\n",
       "    </tr>\n",
       "    <tr>\n",
       "      <th>1854</th>\n",
       "      <td>Apr 28, 2013</td>\n",
       "      <td>135.30</td>\n",
       "      <td>135.98</td>\n",
       "      <td>132.10</td>\n",
       "      <td>134.21</td>\n",
       "      <td>0</td>\n",
       "      <td>1500520000</td>\n",
       "    </tr>\n",
       "  </tbody>\n",
       "</table>\n",
       "</div>"
      ],
      "text/plain": [
       "              Date   Open*    High     Low  Close** Volume  Market Cap\n",
       "1850  May 02, 2013  116.38  125.60   92.28   105.21      0  1292190000\n",
       "1851  May 01, 2013  139.00  139.89  107.72   116.99      0  1542820000\n",
       "1852  Apr 30, 2013  144.00  146.93  134.05   139.00      0  1597780000\n",
       "1853  Apr 29, 2013  134.44  147.49  134.00   144.54      0  1491160000\n",
       "1854  Apr 28, 2013  135.30  135.98  132.10   134.21      0  1500520000"
      ]
     },
     "execution_count": 12,
     "metadata": {},
     "output_type": "execute_result"
    }
   ],
   "source": [
    "bitcoin.tail()"
   ]
  },
  {
   "cell_type": "code",
   "execution_count": 13,
   "metadata": {
    "collapsed": true
   },
   "outputs": [],
   "source": [
    "ethereum=pandas.read_html(\"https://coinmarketcap.com/currencies/ethereum/historical-data/?start=20130428&end=20180527\")"
   ]
  },
  {
   "cell_type": "code",
   "execution_count": 14,
   "metadata": {},
   "outputs": [
    {
     "data": {
      "text/html": [
       "<div>\n",
       "<style>\n",
       "    .dataframe thead tr:only-child th {\n",
       "        text-align: right;\n",
       "    }\n",
       "\n",
       "    .dataframe thead th {\n",
       "        text-align: left;\n",
       "    }\n",
       "\n",
       "    .dataframe tbody tr th {\n",
       "        vertical-align: top;\n",
       "    }\n",
       "</style>\n",
       "<table border=\"1\" class=\"dataframe\">\n",
       "  <thead>\n",
       "    <tr style=\"text-align: right;\">\n",
       "      <th></th>\n",
       "      <th>Date</th>\n",
       "      <th>Open*</th>\n",
       "      <th>High</th>\n",
       "      <th>Low</th>\n",
       "      <th>Close**</th>\n",
       "      <th>Volume</th>\n",
       "      <th>Market Cap</th>\n",
       "    </tr>\n",
       "  </thead>\n",
       "  <tbody>\n",
       "    <tr>\n",
       "      <th>0</th>\n",
       "      <td>May 26, 2018</td>\n",
       "      <td>587.43</td>\n",
       "      <td>606.17</td>\n",
       "      <td>583.51</td>\n",
       "      <td>587.28</td>\n",
       "      <td>1694300000</td>\n",
       "      <td>58546400000</td>\n",
       "    </tr>\n",
       "    <tr>\n",
       "      <th>1</th>\n",
       "      <td>May 25, 2018</td>\n",
       "      <td>602.14</td>\n",
       "      <td>617.19</td>\n",
       "      <td>575.62</td>\n",
       "      <td>586.73</td>\n",
       "      <td>2110920000</td>\n",
       "      <td>60000400000</td>\n",
       "    </tr>\n",
       "    <tr>\n",
       "      <th>2</th>\n",
       "      <td>May 24, 2018</td>\n",
       "      <td>584.54</td>\n",
       "      <td>610.82</td>\n",
       "      <td>557.21</td>\n",
       "      <td>601.75</td>\n",
       "      <td>2791100000</td>\n",
       "      <td>58234400000</td>\n",
       "    </tr>\n",
       "    <tr>\n",
       "      <th>3</th>\n",
       "      <td>May 23, 2018</td>\n",
       "      <td>646.67</td>\n",
       "      <td>651.64</td>\n",
       "      <td>572.95</td>\n",
       "      <td>583.59</td>\n",
       "      <td>2995430000</td>\n",
       "      <td>64411000000</td>\n",
       "    </tr>\n",
       "    <tr>\n",
       "      <th>4</th>\n",
       "      <td>May 22, 2018</td>\n",
       "      <td>700.18</td>\n",
       "      <td>700.98</td>\n",
       "      <td>644.03</td>\n",
       "      <td>647.74</td>\n",
       "      <td>2230470000</td>\n",
       "      <td>69726300000</td>\n",
       "    </tr>\n",
       "  </tbody>\n",
       "</table>\n",
       "</div>"
      ],
      "text/plain": [
       "           Date   Open*    High     Low  Close**      Volume   Market Cap\n",
       "0  May 26, 2018  587.43  606.17  583.51   587.28  1694300000  58546400000\n",
       "1  May 25, 2018  602.14  617.19  575.62   586.73  2110920000  60000400000\n",
       "2  May 24, 2018  584.54  610.82  557.21   601.75  2791100000  58234400000\n",
       "3  May 23, 2018  646.67  651.64  572.95   583.59  2995430000  64411000000\n",
       "4  May 22, 2018  700.18  700.98  644.03   647.74  2230470000  69726300000"
      ]
     },
     "execution_count": 14,
     "metadata": {},
     "output_type": "execute_result"
    }
   ],
   "source": [
    "ethereum=ethereum[0]\n",
    "ethereum.head()"
   ]
  },
  {
   "cell_type": "code",
   "execution_count": 15,
   "metadata": {},
   "outputs": [
    {
     "data": {
      "text/html": [
       "<div>\n",
       "<style>\n",
       "    .dataframe thead tr:only-child th {\n",
       "        text-align: right;\n",
       "    }\n",
       "\n",
       "    .dataframe thead th {\n",
       "        text-align: left;\n",
       "    }\n",
       "\n",
       "    .dataframe tbody tr th {\n",
       "        vertical-align: top;\n",
       "    }\n",
       "</style>\n",
       "<table border=\"1\" class=\"dataframe\">\n",
       "  <thead>\n",
       "    <tr style=\"text-align: right;\">\n",
       "      <th></th>\n",
       "      <th>Date</th>\n",
       "      <th>Open*</th>\n",
       "      <th>High</th>\n",
       "      <th>Low</th>\n",
       "      <th>Close**</th>\n",
       "      <th>Volume</th>\n",
       "      <th>Market Cap</th>\n",
       "    </tr>\n",
       "  </thead>\n",
       "  <tbody>\n",
       "    <tr>\n",
       "      <th>1019</th>\n",
       "      <td>Aug 11, 2015</td>\n",
       "      <td>0.708087</td>\n",
       "      <td>1.130000</td>\n",
       "      <td>0.663235</td>\n",
       "      <td>1.070000</td>\n",
       "      <td>1463100</td>\n",
       "      <td>42796500</td>\n",
       "    </tr>\n",
       "    <tr>\n",
       "      <th>1020</th>\n",
       "      <td>Aug 10, 2015</td>\n",
       "      <td>0.713989</td>\n",
       "      <td>0.729854</td>\n",
       "      <td>0.636546</td>\n",
       "      <td>0.708448</td>\n",
       "      <td>405283</td>\n",
       "      <td>43130000</td>\n",
       "    </tr>\n",
       "    <tr>\n",
       "      <th>1021</th>\n",
       "      <td>Aug 09, 2015</td>\n",
       "      <td>0.706136</td>\n",
       "      <td>0.879810</td>\n",
       "      <td>0.629191</td>\n",
       "      <td>0.701897</td>\n",
       "      <td>532170</td>\n",
       "      <td>42637600</td>\n",
       "    </tr>\n",
       "    <tr>\n",
       "      <th>1022</th>\n",
       "      <td>Aug 08, 2015</td>\n",
       "      <td>2.790000</td>\n",
       "      <td>2.800000</td>\n",
       "      <td>0.714725</td>\n",
       "      <td>0.753325</td>\n",
       "      <td>674188</td>\n",
       "      <td>167911000</td>\n",
       "    </tr>\n",
       "    <tr>\n",
       "      <th>1023</th>\n",
       "      <td>Aug 07, 2015</td>\n",
       "      <td>2.830000</td>\n",
       "      <td>3.540000</td>\n",
       "      <td>2.520000</td>\n",
       "      <td>2.770000</td>\n",
       "      <td>164329</td>\n",
       "      <td>-</td>\n",
       "    </tr>\n",
       "  </tbody>\n",
       "</table>\n",
       "</div>"
      ],
      "text/plain": [
       "              Date     Open*      High       Low   Close**   Volume Market Cap\n",
       "1019  Aug 11, 2015  0.708087  1.130000  0.663235  1.070000  1463100   42796500\n",
       "1020  Aug 10, 2015  0.713989  0.729854  0.636546  0.708448   405283   43130000\n",
       "1021  Aug 09, 2015  0.706136  0.879810  0.629191  0.701897   532170   42637600\n",
       "1022  Aug 08, 2015  2.790000  2.800000  0.714725  0.753325   674188  167911000\n",
       "1023  Aug 07, 2015  2.830000  3.540000  2.520000  2.770000   164329          -"
      ]
     },
     "execution_count": 15,
     "metadata": {},
     "output_type": "execute_result"
    }
   ],
   "source": [
    "ethereum.tail()"
   ]
  },
  {
   "cell_type": "code",
   "execution_count": 16,
   "metadata": {
    "collapsed": true
   },
   "outputs": [],
   "source": [
    "ethereum.replace('-',0,inplace=True)"
   ]
  },
  {
   "cell_type": "code",
   "execution_count": 17,
   "metadata": {},
   "outputs": [
    {
     "data": {
      "text/html": [
       "<div>\n",
       "<style>\n",
       "    .dataframe thead tr:only-child th {\n",
       "        text-align: right;\n",
       "    }\n",
       "\n",
       "    .dataframe thead th {\n",
       "        text-align: left;\n",
       "    }\n",
       "\n",
       "    .dataframe tbody tr th {\n",
       "        vertical-align: top;\n",
       "    }\n",
       "</style>\n",
       "<table border=\"1\" class=\"dataframe\">\n",
       "  <thead>\n",
       "    <tr style=\"text-align: right;\">\n",
       "      <th></th>\n",
       "      <th>Date</th>\n",
       "      <th>Open*</th>\n",
       "      <th>High</th>\n",
       "      <th>Low</th>\n",
       "      <th>Close**</th>\n",
       "      <th>Volume</th>\n",
       "      <th>Market Cap</th>\n",
       "    </tr>\n",
       "  </thead>\n",
       "  <tbody>\n",
       "    <tr>\n",
       "      <th>1019</th>\n",
       "      <td>Aug 11, 2015</td>\n",
       "      <td>0.708087</td>\n",
       "      <td>1.130000</td>\n",
       "      <td>0.663235</td>\n",
       "      <td>1.070000</td>\n",
       "      <td>1463100</td>\n",
       "      <td>42796500</td>\n",
       "    </tr>\n",
       "    <tr>\n",
       "      <th>1020</th>\n",
       "      <td>Aug 10, 2015</td>\n",
       "      <td>0.713989</td>\n",
       "      <td>0.729854</td>\n",
       "      <td>0.636546</td>\n",
       "      <td>0.708448</td>\n",
       "      <td>405283</td>\n",
       "      <td>43130000</td>\n",
       "    </tr>\n",
       "    <tr>\n",
       "      <th>1021</th>\n",
       "      <td>Aug 09, 2015</td>\n",
       "      <td>0.706136</td>\n",
       "      <td>0.879810</td>\n",
       "      <td>0.629191</td>\n",
       "      <td>0.701897</td>\n",
       "      <td>532170</td>\n",
       "      <td>42637600</td>\n",
       "    </tr>\n",
       "    <tr>\n",
       "      <th>1022</th>\n",
       "      <td>Aug 08, 2015</td>\n",
       "      <td>2.790000</td>\n",
       "      <td>2.800000</td>\n",
       "      <td>0.714725</td>\n",
       "      <td>0.753325</td>\n",
       "      <td>674188</td>\n",
       "      <td>167911000</td>\n",
       "    </tr>\n",
       "    <tr>\n",
       "      <th>1023</th>\n",
       "      <td>Aug 07, 2015</td>\n",
       "      <td>2.830000</td>\n",
       "      <td>3.540000</td>\n",
       "      <td>2.520000</td>\n",
       "      <td>2.770000</td>\n",
       "      <td>164329</td>\n",
       "      <td>0</td>\n",
       "    </tr>\n",
       "  </tbody>\n",
       "</table>\n",
       "</div>"
      ],
      "text/plain": [
       "              Date     Open*      High       Low   Close**   Volume Market Cap\n",
       "1019  Aug 11, 2015  0.708087  1.130000  0.663235  1.070000  1463100   42796500\n",
       "1020  Aug 10, 2015  0.713989  0.729854  0.636546  0.708448   405283   43130000\n",
       "1021  Aug 09, 2015  0.706136  0.879810  0.629191  0.701897   532170   42637600\n",
       "1022  Aug 08, 2015  2.790000  2.800000  0.714725  0.753325   674188  167911000\n",
       "1023  Aug 07, 2015  2.830000  3.540000  2.520000  2.770000   164329          0"
      ]
     },
     "execution_count": 17,
     "metadata": {},
     "output_type": "execute_result"
    }
   ],
   "source": [
    "ethereum.tail()"
   ]
  },
  {
   "cell_type": "code",
   "execution_count": 22,
   "metadata": {},
   "outputs": [
    {
     "data": {
      "image/png": "[encoded data removed]",
      "text/plain": [
       "<Figure size 864x360 with 1 Axes>"
      ]
     },
     "metadata": {},
     "output_type": "display_data"
    }
   ],
   "source": [
    "plt.figure(figsize=(12,5))\n",
    "bitcoin.set_index('Date')[\"Close**\"].plot(linewidth=2)\n",
    "ethereum.set_index('Date')[\"Close**\"].plot(linewidth=2)\n",
    "plt.show()"
   ]
  },
  {
   "cell_type": "code",
   "execution_count": 24,
   "metadata": {},
   "outputs": [
    {
     "data": {
      "image/png": "[encoded data removed]",
      "text/plain": [
       "<Figure size 1008x288 with 2 Axes>"
      ]
     },
     "metadata": {},
     "output_type": "display_data"
    }
   ],
   "source": [
    "plt.figure(figsize=(14,4))\n",
    "plt.subplot(211)\n",
    "bitcoin.set_index('Date')['Close**'].hist(bins=30)\n",
    "plt.subplot(212)\n",
    "ethereum.set_index('Date')['Close**'].hist(bins=30)\n",
    "plt.show()"
   ]
  },
  {
   "cell_type": "code",
   "execution_count": 36,
   "metadata": {},
   "outputs": [
    {
     "data": {
      "text/html": [
       "<div>\n",
       "<style>\n",
       "    .dataframe thead tr:only-child th {\n",
       "        text-align: right;\n",
       "    }\n",
       "\n",
       "    .dataframe thead th {\n",
       "        text-align: left;\n",
       "    }\n",
       "\n",
       "    .dataframe tbody tr th {\n",
       "        vertical-align: top;\n",
       "    }\n",
       "</style>\n",
       "<table border=\"1\" class=\"dataframe\">\n",
       "  <thead>\n",
       "    <tr style=\"text-align: right;\">\n",
       "      <th></th>\n",
       "      <th>Date</th>\n",
       "      <th>Open*</th>\n",
       "      <th>High</th>\n",
       "      <th>Low</th>\n",
       "      <th>Close**</th>\n",
       "      <th>Volume</th>\n",
       "      <th>Market Cap</th>\n",
       "    </tr>\n",
       "  </thead>\n",
       "  <tbody>\n",
       "    <tr>\n",
       "      <th>0</th>\n",
       "      <td>2018-05-26</td>\n",
       "      <td>7486.48</td>\n",
       "      <td>7595.16</td>\n",
       "      <td>7349.12</td>\n",
       "      <td>7355.88</td>\n",
       "      <td>4051540000</td>\n",
       "      <td>127682000000</td>\n",
       "    </tr>\n",
       "    <tr>\n",
       "      <th>1</th>\n",
       "      <td>2018-05-25</td>\n",
       "      <td>7592.30</td>\n",
       "      <td>7659.14</td>\n",
       "      <td>7392.65</td>\n",
       "      <td>7480.14</td>\n",
       "      <td>4867830000</td>\n",
       "      <td>129470000000</td>\n",
       "    </tr>\n",
       "    <tr>\n",
       "      <th>2</th>\n",
       "      <td>2018-05-24</td>\n",
       "      <td>7561.12</td>\n",
       "      <td>7738.60</td>\n",
       "      <td>7331.14</td>\n",
       "      <td>7587.34</td>\n",
       "      <td>6049220000</td>\n",
       "      <td>128925000000</td>\n",
       "    </tr>\n",
       "    <tr>\n",
       "      <th>3</th>\n",
       "      <td>2018-05-23</td>\n",
       "      <td>8037.08</td>\n",
       "      <td>8054.66</td>\n",
       "      <td>7507.88</td>\n",
       "      <td>7557.82</td>\n",
       "      <td>6491120000</td>\n",
       "      <td>137024000000</td>\n",
       "    </tr>\n",
       "    <tr>\n",
       "      <th>4</th>\n",
       "      <td>2018-05-22</td>\n",
       "      <td>8419.87</td>\n",
       "      <td>8423.25</td>\n",
       "      <td>8004.58</td>\n",
       "      <td>8041.78</td>\n",
       "      <td>5137010000</td>\n",
       "      <td>143534000000</td>\n",
       "    </tr>\n",
       "  </tbody>\n",
       "</table>\n",
       "</div>"
      ],
      "text/plain": [
       "        Date    Open*     High      Low  Close**      Volume    Market Cap\n",
       "0 2018-05-26  7486.48  7595.16  7349.12  7355.88  4051540000  127682000000\n",
       "1 2018-05-25  7592.30  7659.14  7392.65  7480.14  4867830000  129470000000\n",
       "2 2018-05-24  7561.12  7738.60  7331.14  7587.34  6049220000  128925000000\n",
       "3 2018-05-23  8037.08  8054.66  7507.88  7557.82  6491120000  137024000000\n",
       "4 2018-05-22  8419.87  8423.25  8004.58  8041.78  5137010000  143534000000"
      ]
     },
     "execution_count": 36,
     "metadata": {},
     "output_type": "execute_result"
    }
   ],
   "source": [
    "bitcoin=bitcoin.assign(Date=pandas.to_datetime(bitcoin.Date))\n",
    "bitcoin.head()"
   ]
  },
  {
   "cell_type": "code",
   "execution_count": 49,
   "metadata": {},
   "outputs": [
    {
     "data": {
      "text/html": [
       "<div>\n",
       "<style>\n",
       "    .dataframe thead tr:only-child th {\n",
       "        text-align: right;\n",
       "    }\n",
       "\n",
       "    .dataframe thead th {\n",
       "        text-align: left;\n",
       "    }\n",
       "\n",
       "    .dataframe tbody tr th {\n",
       "        vertical-align: top;\n",
       "    }\n",
       "</style>\n",
       "<table border=\"1\" class=\"dataframe\">\n",
       "  <thead>\n",
       "    <tr style=\"text-align: right;\">\n",
       "      <th></th>\n",
       "      <th>Open*</th>\n",
       "      <th>High</th>\n",
       "      <th>Low</th>\n",
       "      <th>Close**</th>\n",
       "      <th>Volume</th>\n",
       "      <th>Market Cap</th>\n",
       "    </tr>\n",
       "  </thead>\n",
       "  <tbody>\n",
       "    <tr>\n",
       "      <th>count</th>\n",
       "      <td>1855.000000</td>\n",
       "      <td>1855.000000</td>\n",
       "      <td>1855.000000</td>\n",
       "      <td>1855.000000</td>\n",
       "      <td>1.855000e+03</td>\n",
       "      <td>1.855000e+03</td>\n",
       "    </tr>\n",
       "    <tr>\n",
       "      <th>mean</th>\n",
       "      <td>1852.583073</td>\n",
       "      <td>1918.142825</td>\n",
       "      <td>1779.349590</td>\n",
       "      <td>1856.198291</td>\n",
       "      <td>1.149293e+09</td>\n",
       "      <td>3.020785e+10</td>\n",
       "    </tr>\n",
       "    <tr>\n",
       "      <th>std</th>\n",
       "      <td>3303.042472</td>\n",
       "      <td>3441.480662</td>\n",
       "      <td>3133.550966</td>\n",
       "      <td>3304.862001</td>\n",
       "      <td>3.018150e+09</td>\n",
       "      <td>5.587985e+10</td>\n",
       "    </tr>\n",
       "    <tr>\n",
       "      <th>min</th>\n",
       "      <td>68.500000</td>\n",
       "      <td>74.560000</td>\n",
       "      <td>65.530000</td>\n",
       "      <td>68.430000</td>\n",
       "      <td>0.000000e+00</td>\n",
       "      <td>7.792550e+08</td>\n",
       "    </tr>\n",
       "    <tr>\n",
       "      <th>25%</th>\n",
       "      <td>284.035000</td>\n",
       "      <td>289.690000</td>\n",
       "      <td>280.370000</td>\n",
       "      <td>284.770000</td>\n",
       "      <td>1.717355e+07</td>\n",
       "      <td>4.036400e+09</td>\n",
       "    </tr>\n",
       "    <tr>\n",
       "      <th>50%</th>\n",
       "      <td>548.660000</td>\n",
       "      <td>573.380000</td>\n",
       "      <td>525.640000</td>\n",
       "      <td>549.260000</td>\n",
       "      <td>4.798010e+07</td>\n",
       "      <td>7.164770e+09</td>\n",
       "    </tr>\n",
       "    <tr>\n",
       "      <th>75%</th>\n",
       "      <td>1043.960000</td>\n",
       "      <td>1063.840000</td>\n",
       "      <td>1017.960000</td>\n",
       "      <td>1044.475000</td>\n",
       "      <td>2.254060e+08</td>\n",
       "      <td>1.673720e+10</td>\n",
       "    </tr>\n",
       "    <tr>\n",
       "      <th>max</th>\n",
       "      <td>19475.800000</td>\n",
       "      <td>20089.000000</td>\n",
       "      <td>18974.100000</td>\n",
       "      <td>19497.400000</td>\n",
       "      <td>2.384090e+10</td>\n",
       "      <td>3.261410e+11</td>\n",
       "    </tr>\n",
       "  </tbody>\n",
       "</table>\n",
       "</div>"
      ],
      "text/plain": [
       "              Open*          High           Low       Close**        Volume  \\\n",
       "count   1855.000000   1855.000000   1855.000000   1855.000000  1.855000e+03   \n",
       "mean    1852.583073   1918.142825   1779.349590   1856.198291  1.149293e+09   \n",
       "std     3303.042472   3441.480662   3133.550966   3304.862001  3.018150e+09   \n",
       "min       68.500000     74.560000     65.530000     68.430000  0.000000e+00   \n",
       "25%      284.035000    289.690000    280.370000    284.770000  1.717355e+07   \n",
       "50%      548.660000    573.380000    525.640000    549.260000  4.798010e+07   \n",
       "75%     1043.960000   1063.840000   1017.960000   1044.475000  2.254060e+08   \n",
       "max    19475.800000  20089.000000  18974.100000  19497.400000  2.384090e+10   \n",
       "\n",
       "         Market Cap  \n",
       "count  1.855000e+03  \n",
       "mean   3.020785e+10  \n",
       "std    5.587985e+10  \n",
       "min    7.792550e+08  \n",
       "25%    4.036400e+09  \n",
       "50%    7.164770e+09  \n",
       "75%    1.673720e+10  \n",
       "max    3.261410e+11  "
      ]
     },
     "execution_count": 49,
     "metadata": {},
     "output_type": "execute_result"
    }
   ],
   "source": [
    "bitcoin.Volume=bitcoin.Volume.astype('int64')\n",
    "bitcoin.describe()"
   ]
  },
  {
   "cell_type": "code",
   "execution_count": 58,
   "metadata": {},
   "outputs": [
    {
     "data": {
      "image/png": "[encoded data removed]",
      "text/plain": [
       "<Figure size 864x360 with 2 Axes>"
      ]
     },
     "metadata": {},
     "output_type": "display_data"
    }
   ],
   "source": [
    "plt.figure(figsize=(12,5))\n",
    "plt.subplot(211)\n",
    "bitcoin.set_index('Date')[\"Volume\"].plot(linewidth=2)\n",
    "plt.subplot(212)\n",
    "ethereum.set_index('Date')[\"Volume\"].plot(linewidth=2)\n",
    "plt.show()"
   ]
  },
  {
   "cell_type": "code",
   "execution_count": 59,
   "metadata": {
    "collapsed": true
   },
   "outputs": [],
   "source": [
    "bitcoin.to_csv('bitcoin.csv')\n",
    "ethereum.to_csv('ethereum.csv')"
   ]
  },
  {
   "cell_type": "code",
   "execution_count": 62,
   "metadata": {},
   "outputs": [
    {
     "data": {
      "image/png": "[encoded data removed]",
      "text/plain": [
       "<Figure size 432x288 with 2 Axes>"
      ]
     },
     "metadata": {},
     "output_type": "display_data"
    }
   ],
   "source": [
    "cor=bitcoin.corr()\n",
    "sns.heatmap(cor,annot=True,cmap='coolwarm')\n",
    "plt.show()"
   ]
  },
  {
   "cell_type": "code",
   "execution_count": 63,
   "metadata": {},
   "outputs": [
    {
     "data": {
      "text/html": [
       "<div>\n",
       "<style>\n",
       "    .dataframe thead tr:only-child th {\n",
       "        text-align: right;\n",
       "    }\n",
       "\n",
       "    .dataframe thead th {\n",
       "        text-align: left;\n",
       "    }\n",
       "\n",
       "    .dataframe tbody tr th {\n",
       "        vertical-align: top;\n",
       "    }\n",
       "</style>\n",
       "<table border=\"1\" class=\"dataframe\">\n",
       "  <thead>\n",
       "    <tr style=\"text-align: right;\">\n",
       "      <th></th>\n",
       "      <th>Open*</th>\n",
       "      <th>High</th>\n",
       "      <th>Low</th>\n",
       "      <th>Close**</th>\n",
       "      <th>Volume</th>\n",
       "      <th>Market Cap</th>\n",
       "    </tr>\n",
       "  </thead>\n",
       "  <tbody>\n",
       "    <tr>\n",
       "      <th>Open*</th>\n",
       "      <td>1.000000</td>\n",
       "      <td>0.998871</td>\n",
       "      <td>0.997964</td>\n",
       "      <td>0.997381</td>\n",
       "      <td>0.948240</td>\n",
       "      <td>0.999865</td>\n",
       "    </tr>\n",
       "    <tr>\n",
       "      <th>High</th>\n",
       "      <td>0.998871</td>\n",
       "      <td>1.000000</td>\n",
       "      <td>0.998092</td>\n",
       "      <td>0.999135</td>\n",
       "      <td>0.950996</td>\n",
       "      <td>0.998648</td>\n",
       "    </tr>\n",
       "    <tr>\n",
       "      <th>Low</th>\n",
       "      <td>0.997964</td>\n",
       "      <td>0.998092</td>\n",
       "      <td>1.000000</td>\n",
       "      <td>0.998701</td>\n",
       "      <td>0.938225</td>\n",
       "      <td>0.997947</td>\n",
       "    </tr>\n",
       "    <tr>\n",
       "      <th>Close**</th>\n",
       "      <td>0.997381</td>\n",
       "      <td>0.999135</td>\n",
       "      <td>0.998701</td>\n",
       "      <td>1.000000</td>\n",
       "      <td>0.946032</td>\n",
       "      <td>0.997230</td>\n",
       "    </tr>\n",
       "    <tr>\n",
       "      <th>Volume</th>\n",
       "      <td>0.948240</td>\n",
       "      <td>0.950996</td>\n",
       "      <td>0.938225</td>\n",
       "      <td>0.946032</td>\n",
       "      <td>1.000000</td>\n",
       "      <td>0.948378</td>\n",
       "    </tr>\n",
       "    <tr>\n",
       "      <th>Market Cap</th>\n",
       "      <td>0.999865</td>\n",
       "      <td>0.998648</td>\n",
       "      <td>0.997947</td>\n",
       "      <td>0.997230</td>\n",
       "      <td>0.948378</td>\n",
       "      <td>1.000000</td>\n",
       "    </tr>\n",
       "  </tbody>\n",
       "</table>\n",
       "</div>"
      ],
      "text/plain": [
       "               Open*      High       Low   Close**    Volume  Market Cap\n",
       "Open*       1.000000  0.998871  0.997964  0.997381  0.948240    0.999865\n",
       "High        0.998871  1.000000  0.998092  0.999135  0.950996    0.998648\n",
       "Low         0.997964  0.998092  1.000000  0.998701  0.938225    0.997947\n",
       "Close**     0.997381  0.999135  0.998701  1.000000  0.946032    0.997230\n",
       "Volume      0.948240  0.950996  0.938225  0.946032  1.000000    0.948378\n",
       "Market Cap  0.999865  0.998648  0.997947  0.997230  0.948378    1.000000"
      ]
     },
     "execution_count": 63,
     "metadata": {},
     "output_type": "execute_result"
    }
   ],
   "source": [
    "cor"
   ]
  },
  {
   "cell_type": "code",
   "execution_count": null,
   "metadata": {
    "collapsed": true
   },
   "outputs": [],
   "source": []
  }
 ],
 "metadata": {
  "kernelspec": {
   "display_name": "Python 3",
   "language": "python",
   "name": "python3"
  },
  "language_info": {
   "codemirror_mode": {
    "name": "ipython",
    "version": 3
   },
   "file_extension": ".py",
   "mimetype": "text/x-python",
   "name": "python",
   "nbconvert_exporter": "python",
   "pygments_lexer": "ipython3",
   "version": "3.6.1"
  }
 },
 "nbformat": 4,
 "nbformat_minor": 2
}
